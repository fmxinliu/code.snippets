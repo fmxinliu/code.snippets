{
 "cells": [
  {
   "cell_type": "markdown",
   "id": "5604b37a",
   "metadata": {},
   "source": [
    "# 求数据集前n个主成分\n",
    "## 第一主成分"
   ]
  },
  {
   "cell_type": "code",
   "execution_count": null,
   "id": "186b9bbb",
   "metadata": {},
   "outputs": [],
   "source": [
    "import numpy as np\n",
    "import matplotlib.pyplot as plt"
   ]
  },
  {
   "cell_type": "code",
   "execution_count": null,
   "id": "3a863844",
   "metadata": {},
   "outputs": [],
   "source": [
    "X = np.zeros((100, 2))\n",
    "X[:, 0] = np.random.uniform(0., 100., size=100)\n",
    "X[:, 1] = 0.75 * X[:, 0] + 3. + np.random.normal(0, 10., size=100)"
   ]
  },
  {
   "cell_type": "code",
   "execution_count": null,
   "id": "c107bbb1",
   "metadata": {},
   "outputs": [],
   "source": [
    "plt.scatter(X[:, 0], X[:, 1])\n",
    "plt.show()"
   ]
  },
  {
   "cell_type": "markdown",
   "id": "a654bc64",
   "metadata": {},
   "source": [
    "### demean"
   ]
  },
  {
   "cell_type": "code",
   "execution_count": null,
   "id": "aa8b358b",
   "metadata": {},
   "outputs": [],
   "source": [
    "def demean(X):\n",
    "    \"\"\"特征均值归零化\"\"\"\n",
    "    return X - np.mean(X, axis=0)"
   ]
  },
  {
   "cell_type": "code",
   "execution_count": null,
   "id": "15b6d719",
   "metadata": {},
   "outputs": [],
   "source": [
    "X_demean = demean(X)"
   ]
  },
  {
   "cell_type": "code",
   "execution_count": null,
   "id": "35a057a5",
   "metadata": {},
   "outputs": [],
   "source": [
    "plt.scatter(X_demean[:, 0], X_demean[:, 1])\n",
    "plt.show()"
   ]
  },
  {
   "cell_type": "code",
   "execution_count": null,
   "id": "a6f307d6",
   "metadata": {},
   "outputs": [],
   "source": [
    "np.mean(X_demean[:,0])"
   ]
  },
  {
   "cell_type": "code",
   "execution_count": null,
   "id": "04e0e61a",
   "metadata": {},
   "outputs": [],
   "source": [
    "np.mean(X_demean[:,1])"
   ]
  },
  {
   "cell_type": "code",
   "execution_count": null,
   "id": "db9255f3",
   "metadata": {},
   "outputs": [],
   "source": []
  },
  {
   "cell_type": "markdown",
   "id": "156726b1",
   "metadata": {},
   "source": [
    "### 梯度上升法"
   ]
  },
  {
   "cell_type": "code",
   "execution_count": null,
   "id": "f7e7a81f",
   "metadata": {},
   "outputs": [],
   "source": [
    "def f(w, X):\n",
    "    \"\"\"目标函数\"\"\"\n",
    "    assert np.alltrue(np.mean(X, axis=0) < 1e-10), \"必须先对X进行均值归零化\"\n",
    "    return np.sum(X.dot(w) ** 2) / len(X)"
   ]
  },
  {
   "cell_type": "code",
   "execution_count": null,
   "id": "e6b2fd26",
   "metadata": {},
   "outputs": [],
   "source": [
    "def df_math(w, X):\n",
    "    \"\"\"计算目标函数的梯度\"\"\"\n",
    "    return X.T.dot(X.dot(w)) * 2. / len(X)"
   ]
  },
  {
   "cell_type": "code",
   "execution_count": null,
   "id": "5ffd3734",
   "metadata": {},
   "outputs": [],
   "source": [
    "def df_debug(w, X, epsilon=0.0001):\n",
    "    \"\"\"梯度粗略值\"\"\"\n",
    "    res = np.empty(len(w))\n",
    "    for i in range(len(w)):\n",
    "        w_1 = w.copy()\n",
    "        w_1[i] += epsilon\n",
    "        w_2 = w.copy()\n",
    "        w_2[i] -= epsilon\n",
    "        res[i] = (f(w_1, X) - f(w_2, X)) / (2 * epsilon)\n",
    "    return res"
   ]
  },
  {
   "cell_type": "code",
   "execution_count": null,
   "id": "c46d4990",
   "metadata": {},
   "outputs": [],
   "source": [
    "def direction(w):\n",
    "    \"\"\"向量单位化\"\"\"\n",
    "    return w / np.linalg.norm(w)\n",
    "\n",
    "def gradient_ascend(df, X, initial_w, eta, n_iters=1e4, epsilon=1e-8):\n",
    "    \"\"\"梯度上升法\"\"\"\n",
    "    \n",
    "    cur_iter = 0\n",
    "    w = direction(initial_w)\n",
    "    \n",
    "    while cur_iter < n_iters:\n",
    "        gradient = df(w, X)\n",
    "        last_w = w\n",
    "        w = w + eta * gradient\n",
    "        w = direction(w)  # 注意1: 每次求一个单位方向\n",
    "        if abs(f(w, X) - f(last_w, X)) < epsilon:\n",
    "            break\n",
    "        \n",
    "        cur_iter += 1\n",
    "        \n",
    "    return w"
   ]
  },
  {
   "cell_type": "code",
   "execution_count": null,
   "id": "97f2d09e",
   "metadata": {},
   "outputs": [],
   "source": [
    "initial_w = np.random.random(X.shape[1])  # 注意2: 不能用0向量开始\n",
    "initial_w"
   ]
  },
  {
   "cell_type": "code",
   "execution_count": null,
   "id": "b8e80fa5",
   "metadata": {},
   "outputs": [],
   "source": [
    "eta = 0.01"
   ]
  },
  {
   "cell_type": "code",
   "execution_count": null,
   "id": "af36289b",
   "metadata": {},
   "outputs": [],
   "source": [
    "# 注意3: 不能使用StandardScalar标准化数据"
   ]
  },
  {
   "cell_type": "code",
   "execution_count": null,
   "id": "4599f2b5",
   "metadata": {},
   "outputs": [],
   "source": [
    "gradient_ascend(df_debug, X_demean, initial_w, eta)"
   ]
  },
  {
   "cell_type": "code",
   "execution_count": null,
   "id": "2ce55b64",
   "metadata": {},
   "outputs": [],
   "source": [
    "w = gradient_ascend(df_math, X_demean, initial_w, eta)\n",
    "w"
   ]
  },
  {
   "cell_type": "code",
   "execution_count": null,
   "id": "65df7e70",
   "metadata": {},
   "outputs": [],
   "source": [
    "plt.scatter(X_demean[:, 0], X_demean[:, 1])\n",
    "plt.plot([0, w[0]*30], [0, w[1]*30], color='r')\n",
    "plt.show()"
   ]
  },
  {
   "cell_type": "markdown",
   "id": "4a832601",
   "metadata": {},
   "source": [
    "## 第二主成分\n",
    "### 去掉第一主成分"
   ]
  },
  {
   "cell_type": "code",
   "execution_count": null,
   "id": "09031b09",
   "metadata": {},
   "outputs": [],
   "source": [
    "def remove_first_component(X, w):\n",
    "    \"\"\"去掉第一主成分\"\"\"\n",
    "    return X - X.dot(w).reshape(-1, 1) * w"
   ]
  },
  {
   "cell_type": "code",
   "execution_count": null,
   "id": "5e8d3361",
   "metadata": {},
   "outputs": [],
   "source": [
    "X2 = remove_first_component(X, w)"
   ]
  },
  {
   "cell_type": "markdown",
   "id": "9fd39c49",
   "metadata": {},
   "source": [
    "### demean"
   ]
  },
  {
   "cell_type": "code",
   "execution_count": null,
   "id": "4ae515fc",
   "metadata": {},
   "outputs": [],
   "source": [
    "X2_demean = demean(X2)"
   ]
  },
  {
   "cell_type": "code",
   "execution_count": null,
   "id": "eaddf26f",
   "metadata": {},
   "outputs": [],
   "source": [
    "plt.scatter(X2[:, 0], X2[:, 1])\n",
    "plt.show()"
   ]
  },
  {
   "cell_type": "markdown",
   "id": "6d1111de",
   "metadata": {},
   "source": [
    "### 梯度上升法"
   ]
  },
  {
   "cell_type": "code",
   "execution_count": null,
   "id": "9059f71d",
   "metadata": {},
   "outputs": [],
   "source": [
    "w2 = gradient_ascend(df_math, X2_demean, initial_w, eta)\n",
    "w2"
   ]
  },
  {
   "cell_type": "code",
   "execution_count": null,
   "id": "c9f17583",
   "metadata": {},
   "outputs": [],
   "source": [
    "plt.scatter(X2[:, 0], X2[:, 1])\n",
    "plt.plot([0, w2[0]*30], [0, w2[1]*30], color='r')\n",
    "plt.show()"
   ]
  },
  {
   "cell_type": "markdown",
   "id": "4dd27334",
   "metadata": {},
   "source": [
    "**第一主成分与第二主成分垂直**"
   ]
  },
  {
   "cell_type": "code",
   "execution_count": null,
   "id": "7be9c7f0",
   "metadata": {},
   "outputs": [],
   "source": [
    "w.dot(w2)"
   ]
  },
  {
   "cell_type": "markdown",
   "id": "6fb5601c",
   "metadata": {},
   "source": [
    "## 前n个主成分"
   ]
  },
  {
   "cell_type": "code",
   "execution_count": null,
   "id": "c9a3e6d5",
   "metadata": {},
   "outputs": [],
   "source": [
    "def first_component(X, initial_w, eta, n_iters=1e4, epsilon=1e-8):\n",
    "    \"\"\"利用梯度上升法，求解第一主成分\"\"\"\n",
    "    \n",
    "    def df(w, X):\n",
    "        \"\"\"计算目标函数的梯度\"\"\"\n",
    "        return X.T.dot(X.dot(w)) * 2. / len(X)\n",
    "\n",
    "    cur_iter = 0\n",
    "    w = direction(initial_w)\n",
    "\n",
    "    while cur_iter < n_iters:\n",
    "        gradient = df(w, X)\n",
    "        last_w = w\n",
    "        w = w + eta * gradient\n",
    "        w = direction(w)  # 注意1: 每次求一个单位方向\n",
    "        if abs(f(w, X) - f(last_w, X)) < epsilon:\n",
    "            break\n",
    "\n",
    "        cur_iter += 1\n",
    "\n",
    "    return w\n",
    "\n",
    "\n",
    "def first_n_components(n, X, eta=0.01, n_iters=1e4, epsilon=1e-8):\n",
    "    \"\"\"求前n个主成分\"\"\"\n",
    "    \n",
    "    X_pca = X.copy()\n",
    "    X_pca = demean(X_pca)\n",
    "    res = []\n",
    "    for i in range(n):\n",
    "        initial_w = np.random.random(X.shape[1])\n",
    "        w = first_component(X_pca, initial_w, eta, n_iters, epsilon)\n",
    "        res.append(w)\n",
    "        X_pca = remove_first_component(X_pca, w)\n",
    "\n",
    "    return res"
   ]
  },
  {
   "cell_type": "code",
   "execution_count": null,
   "id": "db71be09",
   "metadata": {},
   "outputs": [],
   "source": [
    "first_n_components(2, X)"
   ]
  },
  {
   "cell_type": "markdown",
   "id": "5141a348",
   "metadata": {},
   "source": [
    "# PCA数据降维"
   ]
  },
  {
   "cell_type": "code",
   "execution_count": null,
   "id": "ec5cd500",
   "metadata": {},
   "outputs": [],
   "source": [
    "import sys\n",
    "sys.path.append('playML')\n",
    "from playML.PCA import PCA"
   ]
  },
  {
   "cell_type": "code",
   "execution_count": null,
   "id": "1b108e3e",
   "metadata": {},
   "outputs": [],
   "source": [
    "pca = PCA(n_components=2)\n",
    "pca.fit(X)"
   ]
  },
  {
   "cell_type": "code",
   "execution_count": null,
   "id": "06bf69f4",
   "metadata": {},
   "outputs": [],
   "source": [
    "pca.components_"
   ]
  },
  {
   "cell_type": "markdown",
   "id": "2469e5f9",
   "metadata": {},
   "source": [
    "## 降维"
   ]
  },
  {
   "cell_type": "code",
   "execution_count": null,
   "id": "e804b10f",
   "metadata": {},
   "outputs": [],
   "source": [
    "pca = PCA(n_components=1)\n",
    "pca.fit(X)"
   ]
  },
  {
   "cell_type": "code",
   "execution_count": null,
   "id": "3404e76a",
   "metadata": {},
   "outputs": [],
   "source": [
    "pca.components_"
   ]
  },
  {
   "cell_type": "code",
   "execution_count": null,
   "id": "c1fef832",
   "metadata": {},
   "outputs": [],
   "source": [
    "X_reduction = pca.transform(X)"
   ]
  },
  {
   "cell_type": "code",
   "execution_count": null,
   "id": "0450c00d",
   "metadata": {},
   "outputs": [],
   "source": [
    "X_reduction.shape"
   ]
  },
  {
   "cell_type": "markdown",
   "id": "f5601704",
   "metadata": {},
   "source": [
    "## 恢复"
   ]
  },
  {
   "cell_type": "code",
   "execution_count": null,
   "id": "27d65595",
   "metadata": {},
   "outputs": [],
   "source": [
    "X_restore = pca.inverse_transform(X_reduction)"
   ]
  },
  {
   "cell_type": "code",
   "execution_count": null,
   "id": "56adccae",
   "metadata": {},
   "outputs": [],
   "source": [
    "X_restore.shape"
   ]
  },
  {
   "cell_type": "markdown",
   "id": "ddcac256",
   "metadata": {},
   "source": [
    "**降维恢复后的数据**\n",
    "- pca降维原理: 寻找另外一个坐标系，这个坐标系中的每个轴(主成分)，依次可以表达原来样本(特征)的重要程度。\n",
    "- pca降维过程: 提取出前k个最重要的主成分，将所有的样本映射到这k个轴上(**会丢失信息**)，获得一个低维的数据。"
   ]
  },
  {
   "cell_type": "code",
   "execution_count": null,
   "id": "13998dd5",
   "metadata": {},
   "outputs": [],
   "source": [
    "plt.scatter(X[:, 0], X[:, 1], color='b', alpha=0.5)\n",
    "plt.scatter(X_restore[:, 0], X_restore[:, 1], color='r', alpha=0.5)\n",
    "plt.show()"
   ]
  },
  {
   "cell_type": "markdown",
   "id": "c5a29854",
   "metadata": {},
   "source": [
    "# scikit-learn中的PCA"
   ]
  },
  {
   "cell_type": "code",
   "execution_count": null,
   "id": "b2e51b21",
   "metadata": {},
   "outputs": [],
   "source": [
    "import numpy as np\n",
    "import matplotlib.pyplot as plt\n",
    "from sklearn.datasets import load_digits\n",
    "from sklearn.model_selection import train_test_split\n",
    "from sklearn.neighbors import KNeighborsClassifier\n",
    "from sklearn.decomposition import PCA"
   ]
  },
  {
   "cell_type": "markdown",
   "id": "fdf52387",
   "metadata": {},
   "source": [
    "## 加载数据"
   ]
  },
  {
   "cell_type": "code",
   "execution_count": null,
   "id": "f073f8d9",
   "metadata": {},
   "outputs": [],
   "source": [
    "digits = load_digits()\n",
    "X = digits.data\n",
    "y = digits.target"
   ]
  },
  {
   "cell_type": "markdown",
   "id": "4ef1403b",
   "metadata": {},
   "source": [
    "## 数据集划分"
   ]
  },
  {
   "cell_type": "code",
   "execution_count": null,
   "id": "4719ac6e",
   "metadata": {},
   "outputs": [],
   "source": [
    "X_train, X_test, y_train, y_test = train_test_split(X, y, random_state=666, test_size=0.2)"
   ]
  },
  {
   "cell_type": "markdown",
   "id": "84d1ad74",
   "metadata": {},
   "source": [
    "## 机器学习"
   ]
  },
  {
   "cell_type": "markdown",
   "id": "a00581c5",
   "metadata": {},
   "source": [
    "### 使用全部数据进行训练"
   ]
  },
  {
   "cell_type": "code",
   "execution_count": null,
   "id": "c3876148",
   "metadata": {},
   "outputs": [],
   "source": [
    "%%time\n",
    "estimater = KNeighborsClassifier()\n",
    "estimater.fit(X_train, y_train)"
   ]
  },
  {
   "cell_type": "code",
   "execution_count": null,
   "id": "c8c16561",
   "metadata": {},
   "outputs": [],
   "source": [
    "score = estimater.score(X_test, y_test)\n",
    "print(\"使用全部数据进行训练，准确率为: \", score)"
   ]
  },
  {
   "cell_type": "markdown",
   "id": "247959ac",
   "metadata": {},
   "source": [
    "### 使用降维后的数据进行训练"
   ]
  },
  {
   "cell_type": "code",
   "execution_count": null,
   "id": "250cc441",
   "metadata": {},
   "outputs": [],
   "source": [
    "pca = PCA(n_components=2)\n",
    "pca.fit(X_train)\n",
    "X_train_reduction = pca.transform(X_train)\n",
    "X_test_reduction = pca.transform(X_test)"
   ]
  },
  {
   "cell_type": "code",
   "execution_count": null,
   "id": "b9131d51",
   "metadata": {},
   "outputs": [],
   "source": [
    "%%time\n",
    "estimater = KNeighborsClassifier()\n",
    "estimater.fit(X_train_reduction, y_train)"
   ]
  },
  {
   "cell_type": "code",
   "execution_count": null,
   "id": "3e786273",
   "metadata": {},
   "outputs": [],
   "source": [
    "estimater.score(X_test_reduction, y_test)"
   ]
  },
  {
   "cell_type": "markdown",
   "id": "15ac3563",
   "metadata": {},
   "source": [
    "#### 讨论：降到多少维合适？\n",
    "- **explained_variance_ratio_**: 解释每个轴(主成分)可以解释的方差"
   ]
  },
  {
   "cell_type": "code",
   "execution_count": null,
   "id": "0d4ec6d4",
   "metadata": {},
   "outputs": [],
   "source": [
    "pca = PCA(n_components=X_train.shape[1])\n",
    "pca.fit(X_train)\n",
    "pca.explained_variance_ratio_"
   ]
  },
  {
   "cell_type": "code",
   "execution_count": null,
   "id": "4afa542a",
   "metadata": {
    "scrolled": true
   },
   "outputs": [],
   "source": [
    "plt.xlabel(\"维数\")\n",
    "plt.ylabel(\"方差\")\n",
    "plt.plot([i for i in range(X_train.shape[1])],\n",
    "         [np.sum(pca.explained_variance_ratio_[:i+1]) for i in range(len(pca.explained_variance_ratio_))])\n",
    "plt.show()"
   ]
  },
  {
   "cell_type": "markdown",
   "id": "2fd402a3",
   "metadata": {},
   "source": [
    "- **寻找合适的维度**"
   ]
  },
  {
   "cell_type": "code",
   "execution_count": null,
   "id": "f1a6b351",
   "metadata": {},
   "outputs": [],
   "source": [
    "pca = PCA(0.95)  # 传入期望得到的方差，自动计算出要降到的最小维度\n",
    "pca.fit(X_train)"
   ]
  },
  {
   "cell_type": "code",
   "execution_count": null,
   "id": "c60c2319",
   "metadata": {},
   "outputs": [],
   "source": [
    "pca.n_components_"
   ]
  },
  {
   "cell_type": "code",
   "execution_count": null,
   "id": "1b7af779",
   "metadata": {},
   "outputs": [],
   "source": [
    "X_train_reduction = pca.transform(X_train)\n",
    "X_test_reduction = pca.transform(X_test)"
   ]
  },
  {
   "cell_type": "code",
   "execution_count": null,
   "id": "cadf9b9b",
   "metadata": {},
   "outputs": [],
   "source": [
    "%%time\n",
    "estimater = KNeighborsClassifier()\n",
    "estimater.fit(X_train_reduction, y_train)"
   ]
  },
  {
   "cell_type": "code",
   "execution_count": null,
   "id": "8a3ed1d0",
   "metadata": {},
   "outputs": [],
   "source": [
    "score = estimater.score(X_test_reduction, y_test)\n",
    "print(f\"降到{pca.n_components_}维进行训练，准确率为: {score}\")"
   ]
  },
  {
   "cell_type": "markdown",
   "id": "9e55846e",
   "metadata": {},
   "source": [
    "- **降到2维进行可视化**"
   ]
  },
  {
   "cell_type": "code",
   "execution_count": null,
   "id": "7cfdbddb",
   "metadata": {},
   "outputs": [],
   "source": [
    "pca = PCA(n_components=2)\n",
    "pca.fit(X)\n",
    "X_reduction = pca.transform(X)"
   ]
  },
  {
   "cell_type": "code",
   "execution_count": null,
   "id": "87f12f2f",
   "metadata": {},
   "outputs": [],
   "source": [
    "X_reduction.shape"
   ]
  },
  {
   "cell_type": "code",
   "execution_count": null,
   "id": "b75b060e",
   "metadata": {},
   "outputs": [],
   "source": [
    "for i in range(10):\n",
    "    plt.scatter(X_reduction[y==i, 0], X_reduction[y==i, 1], alpha=0.8)\n",
    "plt.show()"
   ]
  },
  {
   "cell_type": "markdown",
   "id": "3d98dc20",
   "metadata": {},
   "source": [
    "# PCA去噪"
   ]
  },
  {
   "cell_type": "code",
   "execution_count": null,
   "id": "0e151524",
   "metadata": {},
   "outputs": [],
   "source": [
    "from sklearn.datasets import load_digits\n",
    "from sklearn.decomposition import PCA"
   ]
  },
  {
   "cell_type": "code",
   "execution_count": null,
   "id": "499e34a4",
   "metadata": {},
   "outputs": [],
   "source": [
    "def plot_digits(data):\n",
    "    \"绘制数字\"\n",
    "    fig, axes = plt.subplots(10, 10, figsize=(10, 10),\n",
    "                             subplot_kw={'xticks': [], 'yticks': []},\n",
    "                             gridspec_kw=dict(hspace=0.1, wspace=0.1))\n",
    "    for i, ax in enumerate(axes.flat):\n",
    "        ax.imshow(data[i].reshape(8, 8),\n",
    "                  cmap='binary', interpolation='nearest',\n",
    "                  clim=(0, 16))\n",
    "    plt.show()\n",
    "    \n",
    "def sort_digits(data):\n",
    "    \"\"\"对数按行排序\"\"\"\n",
    "    digits = data[y==0, :][:10]\n",
    "    for num in range(1, 10):\n",
    "        X_num = data[y==num, :][:10]\n",
    "        digits = np.vstack([digits, X_num])\n",
    "    return digits"
   ]
  },
  {
   "cell_type": "code",
   "execution_count": null,
   "id": "b68e39e0",
   "metadata": {},
   "outputs": [],
   "source": [
    "# 原始数据集\n",
    "digits = load_digits()\n",
    "X = digits.data\n",
    "y = digits.target\n",
    "plot_digits(sort_digits(X))\n",
    "\n",
    "# 加入噪声后的数据集\n",
    "noisy_digits = X + np.random.normal(0, 4, size=X.shape)\n",
    "noisy_digits = sort_digits(noisy_digits)\n",
    "plot_digits(noisy_digits)\n",
    "\n",
    "# 降噪后的数据集\n",
    "pca = PCA(0.5)\n",
    "pca.fit(noisy_digits)\n",
    "reduction_digits = pca.transform(noisy_digits)\n",
    "filtered_digits = pca.inverse_transform(reduction_digits)\n",
    "plot_digits(filtered_digits)"
   ]
  },
  {
   "cell_type": "code",
   "execution_count": null,
   "id": "f940b6d2",
   "metadata": {},
   "outputs": [],
   "source": []
  }
 ],
 "metadata": {
  "kernelspec": {
   "display_name": "Python 3",
   "language": "python",
   "name": "python3"
  },
  "language_info": {
   "codemirror_mode": {
    "name": "ipython",
    "version": 3
   },
   "file_extension": ".py",
   "mimetype": "text/x-python",
   "name": "python",
   "nbconvert_exporter": "python",
   "pygments_lexer": "ipython3",
   "version": "3.7.2"
  },
  "toc": {
   "base_numbering": 1,
   "nav_menu": {},
   "number_sections": true,
   "sideBar": true,
   "skip_h1_title": false,
   "title_cell": "Table of Contents",
   "title_sidebar": "Contents",
   "toc_cell": false,
   "toc_position": {
    "height": "calc(100% - 180px)",
    "left": "10px",
    "top": "150px",
    "width": "295.513px"
   },
   "toc_section_display": true,
   "toc_window_display": true
  }
 },
 "nbformat": 4,
 "nbformat_minor": 5
}
