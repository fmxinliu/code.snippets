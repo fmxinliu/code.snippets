{
 "cells": [
  {
   "cell_type": "markdown",
   "id": "b82e1f66",
   "metadata": {},
   "source": [
    "# 实现原理"
   ]
  },
  {
   "cell_type": "code",
   "execution_count": null,
   "id": "02a2dc5f",
   "metadata": {},
   "outputs": [],
   "source": [
    "import numpy as np\n",
    "import matplotlib.pyplot as plt"
   ]
  },
  {
   "cell_type": "code",
   "execution_count": null,
   "id": "84f77366",
   "metadata": {},
   "outputs": [],
   "source": [
    "x_train = [1., 2., 3., 4., 5.]\n",
    "y_train = [1., 3., 2., 3., 5.]\n",
    "x_test = [1.5, 3.6, 7.7]\n",
    "\n",
    "# 最小二乘法\n",
    "x_mean = np.mean(x_train)\n",
    "y_mean = np.mean(y_train)\n",
    "\n",
    "num, d = 0, 0\n",
    "for x, y in zip(x_train, y_train):\n",
    "    num += (x - x_mean) * (y - y_mean)\n",
    "    d += (x - x_mean) ** 2\n",
    "    \n",
    "a = num / d\n",
    "b = y_mean - a * x_mean\n",
    "\n",
    "y_test_predict = a * np.array(x_test) + b\n",
    "y_train_predict = a * np.array(x_train) + b\n",
    "\n",
    "plt.scatter(x_train, y_train)\n",
    "plt.axis([0, 6, 0, 6])\n",
    "plt.plot(x_train, y_train_predict, color='r')\n",
    "plt.scatter(x_test, y_test_predict, color='g')\n",
    "plt.show()"
   ]
  },
  {
   "cell_type": "markdown",
   "id": "393bcff3",
   "metadata": {},
   "source": [
    "# 测试自己封装的库"
   ]
  },
  {
   "cell_type": "code",
   "execution_count": null,
   "id": "33c6a905",
   "metadata": {},
   "outputs": [],
   "source": [
    "%%time\n",
    "import sys\n",
    "sys.path.append('playML')\n",
    "%run testML/2.简单线性回归.py"
   ]
  },
  {
   "cell_type": "code",
   "execution_count": null,
   "id": "c836ff98",
   "metadata": {},
   "outputs": [],
   "source": []
  }
 ],
 "metadata": {
  "kernelspec": {
   "display_name": "Python 3",
   "language": "python",
   "name": "python3"
  },
  "language_info": {
   "codemirror_mode": {
    "name": "ipython",
    "version": 3
   },
   "file_extension": ".py",
   "mimetype": "text/x-python",
   "name": "python",
   "nbconvert_exporter": "python",
   "pygments_lexer": "ipython3",
   "version": "3.7.2"
  },
  "toc": {
   "base_numbering": 1,
   "nav_menu": {},
   "number_sections": true,
   "sideBar": true,
   "skip_h1_title": false,
   "title_cell": "Table of Contents",
   "title_sidebar": "Contents",
   "toc_cell": false,
   "toc_position": {
    "height": "calc(100% - 180px)",
    "left": "10px",
    "top": "150px",
    "width": "295.513px"
   },
   "toc_section_display": true,
   "toc_window_display": false
  }
 },
 "nbformat": 4,
 "nbformat_minor": 5
}
