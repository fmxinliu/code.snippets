{
 "cells": [
  {
   "cell_type": "code",
   "execution_count": null,
   "id": "8ecc28dd",
   "metadata": {},
   "outputs": [],
   "source": [
    "import matplotlib.pyplot as plt\n",
    "import pandas as pd\n",
    "import numpy as np\n",
    "import random"
   ]
  },
  {
   "cell_type": "markdown",
   "id": "8226d351",
   "metadata": {},
   "source": [
    "# 生成电影数据"
   ]
  },
  {
   "cell_type": "code",
   "execution_count": null,
   "id": "9f2f4b33",
   "metadata": {},
   "outputs": [],
   "source": [
    "num = 20\n",
    "index = ['电影_{}'.format(i+1) for i in range(num)]\n",
    "\n",
    "# 生成电影类型数据\n",
    "genre_array = ['A', 'B', 'C', 'D', 'E', 'F', 'G', 'H']\n",
    "\n",
    "genre_array_len = len(genre_array)\n",
    "\n",
    "\n",
    "def get_random_index(len): return np.random.randint(len)\n",
    "\n",
    "\n",
    "def get_random_genre(): return [genre_array[get_random_index(genre_array_len)]\n",
    "                                for i in range(random.randint(1, 4))]\n",
    "\n",
    "\n",
    "genre_data_list = [','.join(get_random_genre()) for j in range(num)]\n",
    "\n",
    "rating_data_list = np.random.normal(7, 1, size=num)\n",
    "\n",
    "\n",
    "director_array = ['导演_{}'.format(i) for i in range(1, 10)]\n",
    "\n",
    "director_array_len = len(director_array)\n",
    "\n",
    "director_data_list = [director_array[get_random_index(director_array_len)] for j in range(num)] \n",
    "\n",
    "\n",
    "# 生成数据\n",
    "movie_data = pd.DataFrame({'类型': genre_data_list,\n",
    "                           '评分': rating_data_list,\n",
    "                           '导演': director_data_list\n",
    "                           }, index=index)\n"
   ]
  },
  {
   "cell_type": "code",
   "execution_count": null,
   "id": "d5315f4e",
   "metadata": {},
   "outputs": [],
   "source": [
    "movie_data"
   ]
  },
  {
   "cell_type": "code",
   "execution_count": null,
   "id": "73184f7b",
   "metadata": {},
   "outputs": [],
   "source": []
  },
  {
   "cell_type": "markdown",
   "id": "e6fa15bb",
   "metadata": {},
   "source": [
    "# 统计导演"
   ]
  },
  {
   "cell_type": "code",
   "execution_count": null,
   "id": "13c156be",
   "metadata": {},
   "outputs": [],
   "source": [
    "print(movie_data['导演'].unique().shape[0])\n",
    "pd.DataFrame(np.unique(movie_data['导演'])).T"
   ]
  },
  {
   "cell_type": "code",
   "execution_count": null,
   "id": "0c6d8f62",
   "metadata": {},
   "outputs": [],
   "source": []
  },
  {
   "cell_type": "markdown",
   "id": "b14edc47",
   "metadata": {},
   "source": [
    "# 统计评分"
   ]
  },
  {
   "cell_type": "code",
   "execution_count": null,
   "id": "5f12c4fb",
   "metadata": {},
   "outputs": [],
   "source": [
    "# 1.创建画布\n",
    "plt.figure(figsize=(8, 3), dpi=100)\n",
    "\n",
    "# 2.绘制\n",
    "plt.hist(movie_data['评分'].values,bins=20)\n",
    "\n",
    "# 2.1添加网格\n",
    "plt.grid()\n",
    "\n",
    "# 2.2修改刻度\n",
    "max_ = movie_data['评分'].max()\n",
    "min_ = movie_data['评分'].min()\n",
    "t1 = np.linspace(min_, max_, num=21)  # 20 + 1\n",
    "plt.xticks(t1)\n",
    "\n",
    "# 3.显示\n",
    "plt.show()"
   ]
  },
  {
   "cell_type": "code",
   "execution_count": null,
   "id": "4a3f92da",
   "metadata": {},
   "outputs": [],
   "source": []
  },
  {
   "cell_type": "markdown",
   "id": "09f0596d",
   "metadata": {},
   "source": [
    "# 统计每种类型电影的数量\n",
    "## 解析电影类型集合"
   ]
  },
  {
   "cell_type": "code",
   "execution_count": null,
   "id": "0eabc9a3",
   "metadata": {},
   "outputs": [],
   "source": [
    "movie_data['类型']"
   ]
  },
  {
   "cell_type": "code",
   "execution_count": null,
   "id": "c1479291",
   "metadata": {},
   "outputs": [],
   "source": [
    "[i for i in movie_data['类型']]"
   ]
  },
  {
   "cell_type": "code",
   "execution_count": null,
   "id": "8ddce95f",
   "metadata": {},
   "outputs": [],
   "source": [
    "[j for i in movie_data['类型'] for j in i.split(',')]"
   ]
  },
  {
   "cell_type": "code",
   "execution_count": null,
   "id": "639ee050",
   "metadata": {},
   "outputs": [],
   "source": [
    "unique_cols = np.unique([j for i in movie_data['类型'] for j in i.split(',')])"
   ]
  },
  {
   "cell_type": "code",
   "execution_count": null,
   "id": "e201d55c",
   "metadata": {},
   "outputs": [],
   "source": [
    "unique_cols"
   ]
  },
  {
   "cell_type": "markdown",
   "id": "5f46d77c",
   "metadata": {},
   "source": [
    "## 生成一个全为0的DataFrame"
   ]
  },
  {
   "cell_type": "code",
   "execution_count": null,
   "id": "4424c98f",
   "metadata": {},
   "outputs": [],
   "source": [
    "# 电影类型集合\n",
    "cols = unique_cols\n",
    "\n",
    "# 空的表格\n",
    "row_num = num\n",
    "col_num = len(cols)\n",
    "genre_zero = pd.DataFrame(np.zeros((row_num, col_num), dtype=int), index=index, columns=cols)"
   ]
  },
  {
   "cell_type": "code",
   "execution_count": null,
   "id": "0ae02f29",
   "metadata": {},
   "outputs": [],
   "source": [
    "genre_zero"
   ]
  },
  {
   "cell_type": "markdown",
   "id": "7e4a8671",
   "metadata": {},
   "source": [
    "## 遍历电影，标记全为0的DataFrame"
   ]
  },
  {
   "cell_type": "code",
   "execution_count": null,
   "id": "0a114179",
   "metadata": {},
   "outputs": [],
   "source": [
    "for i in range(movie_data.shape[0]):\n",
    "    genre_str = movie_data['类型'].iloc[i]                          # 获取每部电影的类型字符串\n",
    "    genre_list = genre_str.split(',')                              # 分割，获取类型列表\n",
    "    genre_index_list = genre_zero.columns.get_indexer(genre_list)  # 获取类型所在的下标\n",
    "    genre_zero.iloc[i, genre_index_list] = 1                       # 标记 \n",
    "#     genre_zero.loc[genre_zero.index[i], genre_list] = 1"
   ]
  },
  {
   "cell_type": "code",
   "execution_count": null,
   "id": "4b258114",
   "metadata": {},
   "outputs": [],
   "source": [
    "genre_zero"
   ]
  },
  {
   "cell_type": "markdown",
   "id": "402a7e02",
   "metadata": {},
   "source": [
    "## 统计"
   ]
  },
  {
   "cell_type": "code",
   "execution_count": null,
   "id": "494b394f",
   "metadata": {},
   "outputs": [],
   "source": [
    "genre_zero.sum().sort_values(ascending=False).plot(kind='bar', colormap='hot', fontsize=12)"
   ]
  },
  {
   "cell_type": "code",
   "execution_count": null,
   "id": "b441f13f",
   "metadata": {},
   "outputs": [],
   "source": []
  }
 ],
 "metadata": {
  "kernelspec": {
   "display_name": "Python 3",
   "language": "python",
   "name": "python3"
  },
  "language_info": {
   "codemirror_mode": {
    "name": "ipython",
    "version": 3
   },
   "file_extension": ".py",
   "mimetype": "text/x-python",
   "name": "python",
   "nbconvert_exporter": "python",
   "pygments_lexer": "ipython3",
   "version": "3.7.2"
  },
  "toc": {
   "base_numbering": 1,
   "nav_menu": {},
   "number_sections": true,
   "sideBar": true,
   "skip_h1_title": false,
   "title_cell": "Table of Contents",
   "title_sidebar": "Contents",
   "toc_cell": false,
   "toc_position": {
    "height": "calc(100% - 180px)",
    "left": "10px",
    "top": "150px",
    "width": "295.513px"
   },
   "toc_section_display": true,
   "toc_window_display": true
  }
 },
 "nbformat": 4,
 "nbformat_minor": 5
}
