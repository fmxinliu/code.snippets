{
 "cells": [
  {
   "cell_type": "markdown",
   "id": "ac267d51",
   "metadata": {},
   "source": [
    "### 基本使用\n",
    "\n",
    "- __cell__：一个代码单元，包括一对 *In Out* 会话\n",
    "\n",
    "- 支持两种模式\n",
    "  - 编辑模式：按`Enter`进入\n",
    "    - 复制：`Ctrl+C`\n",
    "    - 粘贴：`Ctrl+V`\n",
    "    - 注释：`Ctrl+/`\n",
    "    - 代码补全：`Tab`\n",
    "    - 多光标编辑：`Ctrl`+鼠标\n",
    "  \n",
    "  - 命令模式：按`Esc`进入 \n",
    "    - 输入`a`，在当前 *cell* 前追加一行，并跳转\n",
    "    - 输入`b`，在当前 *cell* 后追加一行，并跳转\n",
    "    - 输入`dd`，删除当前 *cell* 所在行\n",
    "  \n",
    "    - 输入`y`，切换到代码\n",
    "    - 输入`m`，切换到 *Markdown*\n",
    "  \n",
    "    - 输入`l`，给当前 *cell* 加上行号\n",
    "\n",
    "- `Ctrl+Enter`：执行当前 *cell*，不跳转\n",
    "- `Shift+Enter`：执行当前 *cell* ，并跳转到下个 *cell*\n",
    "- *cell* 行号前的`*`：表示当前代码块正在运行\n"
   ]
  },
  {
   "cell_type": "markdown",
   "id": "af71e09b",
   "metadata": {},
   "source": [
    "### 编辑模式"
   ]
  },
  {
   "cell_type": "code",
   "execution_count": null,
   "id": "8f11bccc",
   "metadata": {},
   "outputs": [],
   "source": [
    "ls"
   ]
  },
  {
   "cell_type": "code",
   "execution_count": null,
   "id": "0dfdd98f",
   "metadata": {},
   "outputs": [],
   "source": [
    "a = 1\n",
    "b = 2\n",
    "c = a + b"
   ]
  },
  {
   "cell_type": "code",
   "execution_count": null,
   "id": "88752dd1",
   "metadata": {},
   "outputs": [],
   "source": [
    "a"
   ]
  },
  {
   "cell_type": "code",
   "execution_count": null,
   "id": "ffb5a28b",
   "metadata": {},
   "outputs": [],
   "source": [
    "b"
   ]
  },
  {
   "cell_type": "code",
   "execution_count": null,
   "id": "987bfbed",
   "metadata": {},
   "outputs": [],
   "source": [
    "c"
   ]
  },
  {
   "cell_type": "code",
   "execution_count": null,
   "id": "0e5ce4d1",
   "metadata": {},
   "outputs": [],
   "source": []
  }
 ],
 "metadata": {
  "kernelspec": {
   "display_name": "Python 3",
   "language": "python",
   "name": "python3"
  },
  "language_info": {
   "codemirror_mode": {
    "name": "ipython",
    "version": 3
   },
   "file_extension": ".py",
   "mimetype": "text/x-python",
   "name": "python",
   "nbconvert_exporter": "python",
   "pygments_lexer": "ipython3",
   "version": "3.7.2"
  },
  "toc": {
   "base_numbering": 1,
   "nav_menu": {},
   "number_sections": true,
   "sideBar": true,
   "skip_h1_title": false,
   "title_cell": "Table of Contents",
   "title_sidebar": "Contents",
   "toc_cell": false,
   "toc_position": {},
   "toc_section_display": true,
   "toc_window_display": false
  }
 },
 "nbformat": 4,
 "nbformat_minor": 5
}
