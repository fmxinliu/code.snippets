{
 "cells": [
  {
   "cell_type": "code",
   "execution_count": null,
   "metadata": {},
   "outputs": [],
   "source": [
    "import matplotlib.pyplot as plt\n",
    "import random, os"
   ]
  },
  {
   "cell_type": "markdown",
   "metadata": {},
   "source": [
    "# matplotlib图形绘制"
   ]
  },
  {
   "cell_type": "code",
   "execution_count": null,
   "metadata": {},
   "outputs": [],
   "source": [
    "# 1.创建画布\n",
    "plt.figure()\n",
    "\n",
    "# 2.绘制图形\n",
    "x = [1, 2, 3, 4, 5, 6]\n",
    "y = [9, -2, 5, 3, 1, 7]\n",
    "plt.plot(x, y)\n",
    "\n",
    "# 3.显示图形\n",
    "plt.show()"
   ]
  },
  {
   "cell_type": "code",
   "execution_count": null,
   "metadata": {},
   "outputs": [],
   "source": [
    "# help(plt.figure)"
   ]
  },
  {
   "cell_type": "markdown",
   "metadata": {},
   "source": [
    "# 保存图片"
   ]
  },
  {
   "cell_type": "code",
   "execution_count": null,
   "metadata": {},
   "outputs": [],
   "source": [
    "# 1.创建画布\n",
    "plt.figure()\n",
    "\n",
    "# 2.绘制图形\n",
    "x = [1, 2, 3, 4, 5, 6]\n",
    "y = [9, -2, 5, 3, 1, 7]\n",
    "plt.plot(x, y)\n",
    "\n",
    "if not os.path.exists(\"./tmp\"):\n",
    "    os.mkdir(\"./tmp\")\n",
    "    \n",
    "# 2.1保存图像\n",
    "plt.savefig(\"./tmp/test-1.png\")\n",
    "\n",
    "# 3.显示图形\n",
    "plt.show()                        # 会释放资源\n",
    "\n",
    "# 3.1图像保存\n",
    "plt.savefig(\"./tmp/test-2.png\")  # 无法正确保存"
   ]
  },
  {
   "cell_type": "markdown",
   "metadata": {},
   "source": [
    "# 案例: 显示温度变化曲线"
   ]
  },
  {
   "cell_type": "markdown",
   "metadata": {},
   "source": [
    "## 中文显示"
   ]
  },
  {
   "cell_type": "markdown",
   "metadata": {},
   "source": [
    "- 下载 SimHei 字体\n",
    "- 安装字体\n",
    "  - linux: `sudo cp ~/SimHei.ttf /usr/share/fonts/SimHei.ttf`\n",
    "  - windows和mac下: 双击安装\n",
    "- 删除~/.matplotlib中的缓存文件\n",
    "```\n",
    "cd ~/.matplotlib\n",
    "rm -r *\n",
    "```\n",
    "- 修改配置文件matplotlibrc，文件内容如下:\n",
    "```\n",
    "font.family:  sans-serif\n",
    "font.sans-serif: SimHei\n",
    "axes.unicode_minus: False\n",
    "```"
   ]
  },
  {
   "cell_type": "markdown",
   "metadata": {},
   "source": [
    "## 图形基本绘制功能演示"
   ]
  },
  {
   "cell_type": "code",
   "execution_count": null,
   "metadata": {},
   "outputs": [],
   "source": [
    "# 0.生成数据\n",
    "x = range(60)\n",
    "y_beijing = [random.uniform(10, 15) for i in x]\n",
    "y_shanghai = [random.uniform(20, 30) for i in x]\n",
    "\n",
    "# 1.创建画布\n",
    "plt.figure(figsize=(20, 8), dpi=100)\n",
    "\n",
    "# 2.绘制图形\n",
    "plt.plot(x, y_beijing, label=\"北京\")\n",
    "plt.plot(x, y_shanghai, label=\"上海\", color=\"g\", linestyle='--')\n",
    "\n",
    "# 2.1.添加 x,y 轴刻度\n",
    "y_ticks = range(40)\n",
    "x_ticks_lables = [\"11点{}分\".format(i) for i in x]\n",
    "\n",
    "plt.yticks(y_ticks[::5])\n",
    "plt.xticks(x[::5], x_ticks_lables[::5])           # 第一个参数必须是数字型的集合\n",
    "\n",
    "# 2.2.添加网格\n",
    "plt.grid(True, linestyle='--', alpha=0.5)         # linestyle-网格线，lpha-透明度\n",
    "\n",
    "# 2.3.添加描述\n",
    "plt.xlabel(\"时间\", fontsize=15)\n",
    "plt.ylabel(\"温度\", fontsize=15)\n",
    "plt.title(\"一小时温度变化图\", fontsize=20)\n",
    "\n",
    "# 2.4.显示图例\n",
    "plt.legend()\n",
    "# plt.legend(loc=9)\n",
    "# plt.legend(loc=\"center\")\n",
    "\n",
    "# 3.显示图形\n",
    "plt.show()"
   ]
  },
  {
   "cell_type": "markdown",
   "metadata": {},
   "source": [
    "## 多个坐标系显示图像"
   ]
  },
  {
   "cell_type": "code",
   "execution_count": null,
   "metadata": {
    "scrolled": true
   },
   "outputs": [],
   "source": [
    "# 0.生成数据\n",
    "x = range(60)\n",
    "y_beijing = [random.uniform(10, 15) for i in x]\n",
    "y_shanghai = [random.uniform(20, 30) for i in x]\n",
    "\n",
    "# 1.创建画布\n",
    "# plt.figure(figsize=(20, 8), dpi=100)\n",
    "fig, axes = plt.subplots(nrows=1, ncols=2, figsize=(20, 6), dpi=100)\n",
    "\n",
    "# 2.绘制图形\n",
    "# plt.plot(x, y_beijing, label=\"北京\")\n",
    "# plt.plot(x, y_shanghai, label=\"上海\", color=\"g\", linestyle='--')\n",
    "axes[0].plot(x, y_beijing, label=\"北京\")\n",
    "axes[1].plot(x, y_shanghai, label=\"上海\", color=\"g\", linestyle='--')\n",
    "\n",
    "# 2.1.添加 x,y 轴刻度\n",
    "y_ticks = range(40)\n",
    "x_ticks_lables = [\"11点{}分\".format(i) for i in x]\n",
    "\n",
    "# plt.yticks(y_ticks[::5])\n",
    "# plt.xticks(x[::5], x_ticks_lables[::5])            # 第一个参数必须是数字型的集合\n",
    "\n",
    "axes[0].set_xticks(x[::5])\n",
    "axes[0].set_yticks(y_ticks[::5])\n",
    "axes[0].set_xticklabels(x_ticks_lables[::5])\n",
    "axes[1].set_xticks(x[::5])\n",
    "axes[1].set_yticks(y_ticks[::5])\n",
    "axes[1].set_xticklabels(x_ticks_lables[::5])\n",
    "\n",
    "# # 2.2.添加网格\n",
    "# plt.grid(True, linestyle='--', alpha=0.5)         # linestyle-网格线，lpha-透明度\n",
    "axes[0].grid(True, linestyle='--', alpha=0.5)\n",
    "axes[1].grid(True, linestyle='--', alpha=0.5)\n",
    "\n",
    "# # 2.3.添加描述\n",
    "# plt.xlabel(\"时间\", fontsize=15)\n",
    "# plt.ylabel(\"温度\", fontsize=15)\n",
    "# plt.title(\"一小时温度变化图\", fontsize=20)\n",
    "\n",
    "axes[0].set_xlabel(\"时间\", fontsize=15)\n",
    "axes[0].set_ylabel(\"温度\", fontsize=15)\n",
    "axes[0].set_title(\"北京一小时温度变化图\", fontsize=20)\n",
    "\n",
    "axes[1].set_xlabel(\"时间\", fontsize=15)\n",
    "axes[1].set_ylabel(\"温度\", fontsize=15)\n",
    "axes[1].set_title(\"上海一小时温度变化图\", fontsize=20)\n",
    "\n",
    "# # 2.4.显示图例\n",
    "axes[0].legend()\n",
    "axes[1].legend()\n",
    "\n",
    "# 3.显示图形\n",
    "plt.show()"
   ]
  },
  {
   "cell_type": "markdown",
   "metadata": {},
   "source": [
    "# 常见图形绘制"
   ]
  },
  {
   "cell_type": "markdown",
   "metadata": {},
   "source": [
    "## 折线图"
   ]
  },
  {
   "cell_type": "code",
   "execution_count": null,
   "metadata": {},
   "outputs": [],
   "source": [
    "x = range(1, 5)\n",
    "y = [20, 10, 80, 50]\n",
    "plt.plot(x, y)\n",
    "plt.show()"
   ]
  },
  {
   "cell_type": "markdown",
   "metadata": {},
   "source": [
    "## 散点图"
   ]
  },
  {
   "cell_type": "code",
   "execution_count": null,
   "metadata": {},
   "outputs": [],
   "source": [
    "x = range(1, 20)\n",
    "y = [random.uniform(1, 10) for i in x]\n",
    "plt.scatter(x, y)\n",
    "plt.show()"
   ]
  },
  {
   "cell_type": "markdown",
   "metadata": {},
   "source": [
    "## 柱状图"
   ]
  },
  {
   "cell_type": "code",
   "execution_count": null,
   "metadata": {},
   "outputs": [],
   "source": [
    "# 电影名字\n",
    "movie_name = ['雷神3', '诸神黄昏', '正义联盟', '唐探2', '速度与激情2', '白蛇传']\n",
    "x = range(len(movie_name))\n",
    "# 票房数据\n",
    "y = [73583, 57767, 22354, 78932, 98432, 32901]\n",
    "\n",
    "# 1.创建画布\n",
    "plt.figure(figsize=(10, 6), dpi=100)\n",
    "\n",
    "# 2.绘制\n",
    "bar_colors = ['b', 'r', 'g', 'y', 'c', 'm']  # 颜色\n",
    "# plt.bar(x, y, width=0.5, color=bar_colors) # 整体绘制\n",
    "\n",
    "# plt.bar(x[0], y[0], width=0.5, color=bar_colors[0], label=movie_name[0])\n",
    "# plt.bar(x[1], y[1], width=0.5, color=bar_colors[1], label=movie_name[1])\n",
    "# plt.bar(x[2], y[2], width=0.5, color=bar_colors[2], label=movie_name[2])\n",
    "# plt.bar(x[3], y[3], width=0.5, color=bar_colors[3], label=movie_name[3])\n",
    "# plt.bar(x[4], y[4], width=0.5, color=bar_colors[4], label=movie_name[4])\n",
    "# plt.bar(x[5], y[5], width=0.5, color=bar_colors[5], label=movie_name[5])\n",
    "\n",
    "for (i, name) in enumerate(movie_name):\n",
    "    plt.bar(x[i], y[i], width=0.5, color=bar_colors[i], label=movie_name[i])\n",
    "\n",
    "# 2.1 x轴刻度\n",
    "plt.xticks(x, movie_name, fontsize=12)\n",
    "\n",
    "# 2.2 网格\n",
    "plt.grid(linestyle='--', alpha=0.5)\n",
    "\n",
    "# 2.3 标题\n",
    "plt.title(\"某月电影票房统计\", fontsize=20)\n",
    "\n",
    "# 2.4 y轴标签\n",
    "plt.ylabel('票数', fontsize=12)\n",
    "\n",
    "# 2.5 图例\n",
    "plt.legend()  # 绘制图例，采用单独绘制，设置label\n",
    "\n",
    "plt.show()"
   ]
  },
  {
   "cell_type": "markdown",
   "metadata": {},
   "source": [
    "## 直方图"
   ]
  },
  {
   "cell_type": "code",
   "execution_count": null,
   "metadata": {},
   "outputs": [],
   "source": [
    "# 统计学生成绩\n",
    "stu_scores = [59, 61, 67, 71, 72, 77, 80, 88, 85, 84, 99, 100]\n",
    "stu_groups = [0, 60, 70, 80, 90, 100]\n",
    "# stu_groups_lables =  [str(i) for i in stu_groups]\n",
    "stu_groups_lables = ['0', '60', '70', '80', '90', '100']\n",
    "\n",
    "plt.hist(stu_scores, bins=stu_groups)\n",
    "plt.xticks(stu_groups, stu_groups_lables)\n",
    "plt.show()"
   ]
  },
  {
   "cell_type": "markdown",
   "metadata": {},
   "source": [
    "## 饼图"
   ]
  },
  {
   "cell_type": "code",
   "execution_count": null,
   "metadata": {},
   "outputs": [],
   "source": [
    "import matplotlib.font_manager as fm  # 字体管理器\n",
    "\n",
    "# 准备字体\n",
    "my_font = fm.FontProperties(fname=\"C:\\Windows\\Fonts\\simhei.ttf\")\n",
    "\n",
    "# 准备数据\n",
    "data = [0.16881, 0.14966, 0.07471, 0.06992, 0.04762,\n",
    "        0.03541, 0.02925, 0.02411, 0.02316, 0.01409, 0.36326]\n",
    "\n",
    "# 准备标签\n",
    "labels = ['Java', 'C', 'C++', 'Python', 'Visual Basic.NET',\n",
    "          'C#', 'PHP', 'JavaScript', 'SQL', 'Assembly langugage', '其他']\n",
    "\n",
    "# 将排列在第4位的语言(Python)分离出来\n",
    "explode = [0, 0, 0, 0.3, 0, 0, 0, 0, 0, 0, 0]\n",
    "\n",
    "# 使用自定义颜色\n",
    "colors = ['red', 'pink', 'magenta', 'purple', 'orange']\n",
    "\n",
    "# 画布大小\n",
    "plt.figure(figsize=(20, 8), dpi=100)\n",
    "\n",
    "# 将横、纵坐标轴标准化处理,保证饼图是一个正圆,否则为椭圆\n",
    "plt.axes(aspect='equal')\n",
    "\n",
    "# 控制X轴和Y轴的范围(用于控制饼图的圆心、半径)\n",
    "plt.xlim(0, 10)\n",
    "plt.ylim(0, 8)\n",
    "\n",
    "# 不显示边框\n",
    "plt.gca().spines['right'].set_color('none')\n",
    "plt.gca().spines['top'].set_color('none')\n",
    "plt.gca().spines['left'].set_color('none')\n",
    "plt.gca().spines['bottom'].set_color('none')\n",
    "\n",
    "# 绘制饼图\n",
    "\n",
    "plt.pie(x=data,  # 绘制数据\n",
    "\n",
    "        labels=labels,  # 添加编程语言标签\n",
    "\n",
    "        explode=explode,  # 突出显示Python\n",
    "\n",
    "        colors=colors,  # 设置自定义填充色\n",
    "\n",
    "        autopct='%.3f%%',  # 设置百分比的格式,保留3位小数\n",
    "\n",
    "        pctdistance=0.8,  # 设置百分比标签和圆心的距离\n",
    "\n",
    "        labeldistance=1.0,  # 设置标签和圆心的距离\n",
    "\n",
    "        startangle=180,  # 设置饼图的初始角度\n",
    "\n",
    "        center=(4, 4),  # 设置饼图的圆心(相当于X轴和Y轴的范围)\n",
    "\n",
    "        radius=3.8,  # 设置饼图的半径(相当于X轴和Y轴的范围)\n",
    "\n",
    "        counterclock=False,  # 是否为逆时针方向,False表示顺时针方向\n",
    "\n",
    "        wedgeprops={'linewidth': 1, 'edgecolor': 'green'},  # 设置饼图内外边界的属性值\n",
    "\n",
    "        textprops={'fontsize': 12, 'color': 'black',\n",
    "                   'fontproperties': my_font},  # 设置文本标签的属性值\n",
    "\n",
    "        frame=1)  # 是否显示饼图的圆圈,1为显示\n",
    "\n",
    "# 不显示X轴、Y轴的刻度值\n",
    "plt.xticks(())\n",
    "plt.yticks(())\n",
    "\n",
    "# 添加图形标题\n",
    "plt.title('2018年8月的编程语言指数排行榜', fontproperties=my_font)\n",
    "\n",
    "plt.show()"
   ]
  },
  {
   "cell_type": "code",
   "execution_count": null,
   "metadata": {},
   "outputs": [],
   "source": []
  }
 ],
 "metadata": {
  "kernelspec": {
   "display_name": "Python 3",
   "language": "python",
   "name": "python3"
  },
  "language_info": {
   "codemirror_mode": {
    "name": "ipython",
    "version": 3
   },
   "file_extension": ".py",
   "mimetype": "text/x-python",
   "name": "python",
   "nbconvert_exporter": "python",
   "pygments_lexer": "ipython3",
   "version": "3.7.2"
  },
  "toc": {
   "base_numbering": 1.0,
   "nav_menu": {},
   "number_sections": true,
   "sideBar": true,
   "skip_h1_title": false,
   "title_cell": "Table of Contents",
   "title_sidebar": "Contents",
   "toc_cell": false,
   "toc_position": {
    "height": "calc(100% - 180px)",
    "left": "10px",
    "top": "150px",
    "width": "295.513px"
   },
   "toc_section_display": true,
   "toc_window_display": false
  }
 },
 "nbformat": 4,
 "nbformat_minor": 5
}
