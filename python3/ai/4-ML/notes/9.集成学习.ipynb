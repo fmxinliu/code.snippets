{
 "cells": [
  {
   "cell_type": "code",
   "execution_count": null,
   "metadata": {},
   "outputs": [],
   "source": [
    "import numpy as np\n",
    "import matplotlib.pyplot as plt"
   ]
  },
  {
   "cell_type": "markdown",
   "metadata": {},
   "source": [
    "# 原理\n",
    "## 加载数据集"
   ]
  },
  {
   "cell_type": "code",
   "execution_count": null,
   "metadata": {},
   "outputs": [],
   "source": [
    "from sklearn.datasets import make_moons\n",
    "\n",
    "X, y = make_moons(n_samples=500, noise=0.3, random_state=42)\n",
    "plt.scatter(X[y == 0, 0], X[y == 0, 1])\n",
    "plt.scatter(X[y == 1, 0], X[y == 1, 1])\n",
    "plt.show()"
   ]
  },
  {
   "cell_type": "markdown",
   "metadata": {},
   "source": [
    "## 处理数据集"
   ]
  },
  {
   "cell_type": "code",
   "execution_count": null,
   "metadata": {},
   "outputs": [],
   "source": [
    "from sklearn.model_selection import train_test_split\n",
    "from sklearn.preprocessing import StandardScaler\n",
    "\n",
    "# 划分\n",
    "X_train, X_test, y_train, y_test = train_test_split(X, y, random_state=666)\n",
    "# 标准化\n",
    "std_scaler = StandardScaler()\n",
    "std_scaler.fit(X_train, y_train)\n",
    "X_train = std_scaler.transform(X_train)\n",
    "X_test = std_scaler.transform(X_test)\n",
    "\n",
    "\n",
    "def fit(model):\n",
    "    model.fit(X_train, y_train)\n",
    "    print(model, ':', model.score(X_test, y_test))\n",
    "    return model"
   ]
  },
  {
   "cell_type": "markdown",
   "metadata": {},
   "source": [
    "## 训练模型"
   ]
  },
  {
   "cell_type": "code",
   "execution_count": null,
   "metadata": {},
   "outputs": [],
   "source": [
    "from sklearn.svm import SVC\n",
    "from sklearn.tree import DecisionTreeClassifier\n",
    "from sklearn.linear_model import LogisticRegression\n",
    "\n",
    "svm_clf = fit(SVC())\n",
    "log_clf = fit(LogisticRegression())\n",
    "dt_clf  = fit(DecisionTreeClassifier(random_state=666))"
   ]
  },
  {
   "cell_type": "markdown",
   "metadata": {},
   "source": [
    "## 投票预测"
   ]
  },
  {
   "cell_type": "code",
   "execution_count": null,
   "metadata": {},
   "outputs": [],
   "source": [
    "y_predict1 = svm_clf.predict(X_test)\n",
    "y_predict2 = log_clf.predict(X_test)\n",
    "y_predict3 = dt_clf.predict(X_test)"
   ]
  },
  {
   "cell_type": "code",
   "execution_count": null,
   "metadata": {},
   "outputs": [],
   "source": [
    "y_predict = np.array((y_predict1 + y_predict2 + y_predict3) >= 2, dtype='int')  # 投票: 少数服从多数"
   ]
  },
  {
   "cell_type": "code",
   "execution_count": null,
   "metadata": {},
   "outputs": [],
   "source": [
    "\"\"\" 分类问题评价指标:\n",
    "(1) 准确度： accuracy_score\n",
    "(2) 精确度： precision_score   <--- 下面3个指标，用于偏斜数据集\n",
    "(3) 召回率： recall_score\n",
    "(4) F1值 ：  f1_score\n",
    "\"\"\"\n",
    "from sklearn.metrics import accuracy_score\n",
    "\n",
    "print('支持向量机:', accuracy_score(y_test, y_predict1))\n",
    "print('逻辑回归  :', accuracy_score(y_test, y_predict2))\n",
    "print('决策树    :', accuracy_score(y_test, y_predict3))\n",
    "print('集成学习  :', accuracy_score(y_test, y_predict))  # 准确度提高了"
   ]
  },
  {
   "cell_type": "markdown",
   "metadata": {},
   "source": [
    "# Voting\n",
    "- 单模型，每个算法关注的都是同一份数据，然后对结果进行投票表决"
   ]
  },
  {
   "cell_type": "code",
   "execution_count": null,
   "metadata": {},
   "outputs": [],
   "source": [
    "from sklearn.ensemble import VotingClassifier"
   ]
  },
  {
   "cell_type": "code",
   "execution_count": null,
   "metadata": {},
   "outputs": [],
   "source": [
    "def VotingClassifierTest(voting):\n",
    "    def VotingClassifierPrivate(svm_clf, log_clf, dt_clf, voting):\n",
    "        # 1.创建集成学习分类器\n",
    "        voting_clf = VotingClassifier(estimators=[\n",
    "            ('支持向量机:', svm_clf),\n",
    "            ('逻辑回归:', log_clf),\n",
    "            ('决策树:', dt_clf)\n",
    "        ], voting=voting)\n",
    "\n",
    "        # 2.训练\n",
    "        voting_clf.fit(X_train, y_train)\n",
    "\n",
    "        # 3.预测\n",
    "        print(voting_clf.score(X_test, y_test))\n",
    "\n",
    "    if voting == 'soft':\n",
    "        svm_clf = SVC(probability=True)  # 先计算概率\n",
    "        VotingClassifierPrivate(svm_clf, log_clf, dt_clf, voting='soft')\n",
    "    else:\n",
    "        svm_clf = SVC(probability=False)\n",
    "        VotingClassifierPrivate(svm_clf, log_clf, dt_clf, voting='hard')"
   ]
  },
  {
   "cell_type": "markdown",
   "metadata": {},
   "source": [
    "## Hard Voting\n",
    "- **投票:** 少数服从多数"
   ]
  },
  {
   "cell_type": "code",
   "execution_count": null,
   "metadata": {},
   "outputs": [],
   "source": [
    "VotingClassifierTest(voting='hard')"
   ]
  },
  {
   "cell_type": "markdown",
   "metadata": {},
   "source": [
    "## Soft Voting\n",
    "- **投票:** 引入权重，要求`模型能计算概率`"
   ]
  },
  {
   "cell_type": "code",
   "execution_count": null,
   "metadata": {},
   "outputs": [],
   "source": [
    "VotingClassifierTest(voting='soft')"
   ]
  },
  {
   "cell_type": "code",
   "execution_count": null,
   "metadata": {},
   "outputs": [],
   "source": []
  }
 ],
 "metadata": {
  "kernelspec": {
   "display_name": "Python 3",
   "language": "python",
   "name": "python3"
  },
  "language_info": {
   "codemirror_mode": {
    "name": "ipython",
    "version": 3
   },
   "file_extension": ".py",
   "mimetype": "text/x-python",
   "name": "python",
   "nbconvert_exporter": "python",
   "pygments_lexer": "ipython3",
   "version": "3.7.2"
  },
  "toc": {
   "base_numbering": 1.0,
   "nav_menu": {},
   "number_sections": true,
   "sideBar": true,
   "skip_h1_title": false,
   "title_cell": "Table of Contents",
   "title_sidebar": "Contents",
   "toc_cell": false,
   "toc_position": {
    "height": "calc(100% - 180px)",
    "left": "10px",
    "top": "150px",
    "width": "295.513px"
   },
   "toc_section_display": true,
   "toc_window_display": true
  }
 },
 "nbformat": 4,
 "nbformat_minor": 5
}
