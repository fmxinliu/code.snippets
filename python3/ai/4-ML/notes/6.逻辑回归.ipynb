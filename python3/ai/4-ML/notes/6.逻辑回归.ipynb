{
 "cells": [
  {
   "cell_type": "code",
   "execution_count": null,
   "metadata": {},
   "outputs": [],
   "source": [
    "import numpy as np\n",
    "import matplotlib.pyplot as plt"
   ]
  },
  {
   "cell_type": "markdown",
   "metadata": {},
   "source": [
    "# 逻辑回归【只支持二分类】"
   ]
  },
  {
   "cell_type": "code",
   "execution_count": null,
   "metadata": {},
   "outputs": [],
   "source": [
    "import os, sys\n",
    "sys.path.append(os.path.abspath('..'))\n",
    "from playML.model_selection import train_test_split\n",
    "from playML.LogisticRegression import LogisticRegression\n",
    "from sklearn.datasets import load_iris"
   ]
  },
  {
   "cell_type": "code",
   "execution_count": null,
   "metadata": {},
   "outputs": [],
   "source": [
    "# 1.获取数据集\n",
    "iris = load_iris()\n",
    "X = iris.data\n",
    "y = iris.target\n",
    "\n",
    "# 2.1.数据预处理，构建二分类数据\n",
    "X = X[y < 2, :2]\n",
    "y = y[y < 2]\n",
    "\n",
    "# 2.2.数据集划分\n",
    "X_train, X_test, y_train, y_test = train_test_split(X, y, test_ratio=0.2, seed=666)\n",
    "\n",
    "# 3.逻辑回归\n",
    "log_reg = LogisticRegression()\n",
    "log_reg.fit(X_train, y_train)\n",
    "y_predict = log_reg.predict(X_test)\n",
    "y_proba = log_reg.predict_proba(X_test)\n",
    "score = log_reg.score(X_test, y_test)\n",
    "\n",
    "print(\"y_true:    \", y_test)\n",
    "print(\"y_predict: \", y_predict)\n",
    "print(\"y_proba:   \", y_proba)\n",
    "print(\"准确度：    \", score)\n",
    "\n",
    "# 4.绘制\n",
    "plt.scatter(X_train[y_train == 0, 0], X_train[y_train == 0, 1], color='red')\n",
    "plt.scatter(X_train[y_train == 1, 0], X_train[y_train == 1, 1], color='blue')\n",
    "plt.scatter(X_test[y_predict == 0, 0], X_test[y_predict == 0, 1], color='red', marker='*')\n",
    "plt.scatter(X_test[y_predict == 1, 0], X_test[y_predict == 1, 1], color='blue', marker='*')\n",
    "plt.show()"
   ]
  },
  {
   "cell_type": "markdown",
   "metadata": {},
   "source": [
    "# 决策边界"
   ]
  },
  {
   "cell_type": "code",
   "execution_count": null,
   "metadata": {},
   "outputs": [],
   "source": [
    "def plot_decision_boundary(model, axis):\n",
    "    \"\"\"绘制决策边界\"\"\"\n",
    "    x0, x1 = np.meshgrid(\n",
    "        np.linspace(axis[0], axis[1], int((axis[1]-axis[0])*100)),\n",
    "        np.linspace(axis[2], axis[3], int((axis[3]-axis[2])*100))\n",
    "    )\n",
    "    X_new = np.c_[x0.ravel(), x1.ravel()]\n",
    "\n",
    "    y_predict = model.predict(X_new)\n",
    "    zz = y_predict.reshape(x0.shape)\n",
    "\n",
    "    from matplotlib.colors import ListedColormap\n",
    "    custom_cmap = ListedColormap(['#EF9A9A', '#FFF59D', '#90CAF9'])\n",
    "\n",
    "    plt.contourf(x0, x1, zz, cmap=custom_cmap)"
   ]
  },
  {
   "cell_type": "markdown",
   "metadata": {},
   "source": [
    "## 逻辑回归的决策边界【直线】"
   ]
  },
  {
   "cell_type": "code",
   "execution_count": null,
   "metadata": {},
   "outputs": [],
   "source": [
    "plot_decision_boundary(log_reg, axis=[4, 7.5, 1.5, 4.5])\n",
    "plt.scatter(X[y == 0, 0], X[y == 0, 1], color='red')\n",
    "plt.scatter(X[y == 1, 0], X[y == 1, 1], color='blue')\n",
    "plt.show()"
   ]
  },
  {
   "cell_type": "markdown",
   "metadata": {},
   "source": [
    "## knn的决策边界"
   ]
  },
  {
   "cell_type": "code",
   "execution_count": null,
   "metadata": {},
   "outputs": [],
   "source": [
    "from sklearn.neighbors import KNeighborsClassifier"
   ]
  },
  {
   "cell_type": "markdown",
   "metadata": {},
   "source": [
    "### 二分类"
   ]
  },
  {
   "cell_type": "code",
   "execution_count": null,
   "metadata": {},
   "outputs": [],
   "source": [
    "knn_clf = KNeighborsClassifier()\n",
    "knn_clf.fit(X_train, y_train)"
   ]
  },
  {
   "cell_type": "code",
   "execution_count": null,
   "metadata": {},
   "outputs": [],
   "source": [
    "plot_decision_boundary(knn_clf, axis=[4, 7.5, 1.5, 4.5])\n",
    "plt.scatter(X[y == 0, 0], X[y == 0, 1], color='red')\n",
    "plt.scatter(X[y == 1, 0], X[y == 1, 1], color='blue')\n",
    "plt.show()"
   ]
  },
  {
   "cell_type": "markdown",
   "metadata": {},
   "source": [
    "### 多分类"
   ]
  },
  {
   "cell_type": "code",
   "execution_count": null,
   "metadata": {},
   "outputs": [],
   "source": [
    "# 构建三分类数据\n",
    "X_all = iris.data[:, :2]\n",
    "y_all = iris.target\n",
    "\n",
    "# 绘制knn决策边界\n",
    "def knn_decision_boundary(k=5):\n",
    "    # 1.模型训练\n",
    "    knn_clf = KNeighborsClassifier(n_neighbors=k)\n",
    "    knn_clf.fit(X_all, y_all)\n",
    "\n",
    "    # 2.绘制边界\n",
    "    plot_decision_boundary(knn_clf, axis=[4, 8, 1.5, 4.5])\n",
    "    plt.scatter(X_all[y_all == 0, 0], X_all[y_all == 0, 1], color='red')\n",
    "    plt.scatter(X_all[y_all == 1, 0], X_all[y_all == 1, 1], color='blue')\n",
    "    plt.scatter(X_all[y_all == 2, 0], X_all[y_all == 2, 1], color='green')\n",
    "    plt.show()"
   ]
  },
  {
   "cell_type": "code",
   "execution_count": null,
   "metadata": {},
   "outputs": [],
   "source": [
    "knn_decision_boundary(k=5)    # knn: k越小，模型越复杂，越容易发生过拟合"
   ]
  },
  {
   "cell_type": "code",
   "execution_count": null,
   "metadata": {},
   "outputs": [],
   "source": [
    "knn_decision_boundary(k=20)"
   ]
  },
  {
   "cell_type": "code",
   "execution_count": null,
   "metadata": {},
   "outputs": [],
   "source": [
    "knn_decision_boundary(k=50)"
   ]
  },
  {
   "cell_type": "markdown",
   "metadata": {},
   "source": [
    "# 逻辑回归中添加多项式特征\n",
    "## 支持决策边界为曲线"
   ]
  },
  {
   "cell_type": "code",
   "execution_count": null,
   "metadata": {},
   "outputs": [],
   "source": [
    "np.random.seed(666)\n",
    "X = np.random.normal(0, 1, size=(200, 2))\n",
    "y = np.array(X[:, 0]**2 + X[:, 1]**2 < 1.5, dtype='int')"
   ]
  },
  {
   "cell_type": "code",
   "execution_count": null,
   "metadata": {},
   "outputs": [],
   "source": [
    "plt.scatter(X[y == 0, 0], X[y == 0, 1])\n",
    "plt.scatter(X[y == 1, 0], X[y == 1, 1])\n",
    "plt.show()"
   ]
  },
  {
   "cell_type": "code",
   "execution_count": null,
   "metadata": {},
   "outputs": [],
   "source": [
    "import os, sys\n",
    "sys.path.append(os.path.abspath('..'))\n",
    "from playML.LogisticRegression import LogisticRegression\n",
    "from sklearn.preprocessing import PolynomialFeatures\n",
    "from sklearn.preprocessing import StandardScaler\n",
    "from sklearn.pipeline import Pipeline\n",
    "\n",
    "  \n",
    "def PolynomialLogisticRegression(degree=2):\n",
    "    \"\"\"多项式逻辑回归\"\"\"\n",
    "    return Pipeline([\n",
    "        (\"ploy\", PolynomialFeatures(degree)),    # 1.转换为线性回归, degree: 多项式的阶数\n",
    "        (\"std_scaler\", StandardScaler()),        # 2.数据集归一化\n",
    "        (\"log_reg\", LogisticRegression())        # 3.多项式回归\n",
    "    ])\n",
    "\n",
    "\n",
    "def PolynomialLogisticRegressionTest(degree=2):\n",
    "    # 1.构建逻辑回归\n",
    "    ploy_log_reg = PolynomialLogisticRegression(degree=degree)\n",
    "    ploy_log_reg.fit(X, y)\n",
    "    \n",
    "    # 2.绘制\n",
    "    plot_decision_boundary(ploy_log_reg, axis=[-4, 4, -4, 4])\n",
    "    plt.scatter(X[y == 0, 0], X[y == 0, 1])\n",
    "    plt.scatter(X[y == 1, 0], X[y == 1, 1])\n",
    "    plt.show()"
   ]
  },
  {
   "cell_type": "code",
   "execution_count": null,
   "metadata": {},
   "outputs": [],
   "source": [
    "PolynomialLogisticRegressionTest(degree=1)"
   ]
  },
  {
   "cell_type": "code",
   "execution_count": null,
   "metadata": {},
   "outputs": [],
   "source": [
    "PolynomialLogisticRegressionTest(degree=2)"
   ]
  },
  {
   "cell_type": "code",
   "execution_count": null,
   "metadata": {},
   "outputs": [],
   "source": [
    "PolynomialLogisticRegressionTest(degree=20)  # 多项式回归: degree越大，模型越复杂，越容易发生过拟合"
   ]
  },
  {
   "cell_type": "markdown",
   "metadata": {},
   "source": [
    "## 模型正则化，防止过拟合"
   ]
  },
  {
   "cell_type": "code",
   "execution_count": null,
   "metadata": {},
   "outputs": [],
   "source": [
    "np.random.seed(666)\n",
    "X = np.random.normal(0, 1, size=(200, 2))\n",
    "y = np.array(X[:, 0]**2 + X[:, 1] < 1.5, dtype='int')\n",
    "\n",
    "# 添加随机噪音\n",
    "for _ in range(20):\n",
    "    y[np.random.randint(200)] = 1"
   ]
  },
  {
   "cell_type": "code",
   "execution_count": null,
   "metadata": {},
   "outputs": [],
   "source": [
    "from sklearn.linear_model import LogisticRegression\n",
    "from sklearn.preprocessing import PolynomialFeatures\n",
    "from sklearn.preprocessing import StandardScaler\n",
    "from sklearn.pipeline import Pipeline\n",
    "\n",
    "\n",
    "def PolynomialLogisticRegression(degree, C=1, penalty='l2'):\n",
    "    \"\"\"多项式逻辑回归\"\"\"\n",
    "    return Pipeline([\n",
    "        (\"ploy\", PolynomialFeatures(degree=degree)),\n",
    "        (\"std_scaler\", StandardScaler()),\n",
    "        (\"log_reg\", LogisticRegression(C=C, penalty=penalty))  # penalty: L1、L2正则化， C: 正则化力度\n",
    "    ])\n",
    "\n",
    "\n",
    "def PolynomialLogisticRegressionTest(degree, C=1, penalty='l2'):\n",
    "    # 1.构建逻辑回归\n",
    "    ploy_log_reg = PolynomialLogisticRegression(degree, C, penalty)\n",
    "    ploy_log_reg.fit(X, y)\n",
    "    \n",
    "    # 2.绘制\n",
    "    plot_decision_boundary(ploy_log_reg, axis=[-4, 4, -4, 4])\n",
    "    plt.scatter(X[y == 0, 0], X[y == 0, 1])\n",
    "    plt.scatter(X[y == 1, 0], X[y == 1, 1])\n",
    "    plt.show()"
   ]
  },
  {
   "cell_type": "code",
   "execution_count": null,
   "metadata": {},
   "outputs": [],
   "source": [
    "PolynomialLogisticRegressionTest(degree=1)"
   ]
  },
  {
   "cell_type": "code",
   "execution_count": null,
   "metadata": {},
   "outputs": [],
   "source": [
    "PolynomialLogisticRegressionTest(degree=2)"
   ]
  },
  {
   "cell_type": "code",
   "execution_count": null,
   "metadata": {},
   "outputs": [],
   "source": [
    "PolynomialLogisticRegressionTest(degree=20)"
   ]
  },
  {
   "cell_type": "code",
   "execution_count": null,
   "metadata": {},
   "outputs": [],
   "source": [
    "PolynomialLogisticRegressionTest(degree=20, C=0.1)"
   ]
  },
  {
   "cell_type": "markdown",
   "metadata": {},
   "source": [
    "# 逻辑回归解决多分类问题"
   ]
  },
  {
   "cell_type": "code",
   "execution_count": null,
   "metadata": {},
   "outputs": [],
   "source": [
    "from sklearn.datasets import load_iris\n",
    "from sklearn.model_selection import train_test_split\n",
    "from sklearn.linear_model import LogisticRegression\n",
    "\n",
    "# 1.获取数据集\n",
    "iris = load_iris()\n",
    "\n",
    "# 2.1.数据预处理，构建三分类数据\n",
    "X = iris.data[:, :2]\n",
    "y = iris.target\n",
    "\n",
    "# 2.2.数据集划分\n",
    "X_train, X_test, y_train, y_test = train_test_split(X, y, test_size=0.2, random_state=666)\n",
    "\n",
    "\n",
    "def LogisticRegressionTest(multi_class, solver):\n",
    "    # 多分类逻辑回归\n",
    "    log_reg = LogisticRegression(multi_class=multi_class, solver=solver)\n",
    "    log_reg.fit(X_train, y_train)\n",
    "    print('准确度:', log_reg.score(X_test, y_test))\n",
    "    \n",
    "    # 绘制决策边界\n",
    "    plot_decision_boundary(log_reg, axis=[4, 8, 1.5, 4.5])\n",
    "    plt.scatter(X[y == 0, 0], X[y == 0, 1], color='red')\n",
    "    plt.scatter(X[y == 1, 0], X[y == 1, 1], color='blue')\n",
    "    plt.scatter(X[y == 2, 0], X[y == 2, 1], color='green')\n",
    "    plt.show()"
   ]
  },
  {
   "cell_type": "markdown",
   "metadata": {},
   "source": [
    "## OvR and OvO\n",
    "- **ovr:** 将n分类问题，分为两类：目标类+其余类，计算n次，目标划分到概率大的一类中\n",
    "- **ovo:** 从n分类问题，取出两类：目标类1+目标类2，计算n*(n-1)/2次，目标划分到概率大的一类中"
   ]
  },
  {
   "cell_type": "code",
   "execution_count": null,
   "metadata": {},
   "outputs": [],
   "source": [
    "LogisticRegressionTest(multi_class='ovr', solver='liblinear')"
   ]
  },
  {
   "cell_type": "code",
   "execution_count": null,
   "metadata": {
    "scrolled": true
   },
   "outputs": [],
   "source": [
    "LogisticRegressionTest(multi_class='multinomial', solver='newton-cg')"
   ]
  },
  {
   "cell_type": "markdown",
   "metadata": {},
   "source": [
    "## 扩展所有的二分类器，进行多分类任务"
   ]
  },
  {
   "cell_type": "code",
   "execution_count": null,
   "metadata": {},
   "outputs": [],
   "source": [
    "from sklearn.multiclass import OneVsRestClassifier, OneVsOneClassifier\n",
    "\n",
    "\n",
    "def MultiClassifier(estimator, multi_class='ovr'):\n",
    "    \"\"\"多分类器\"\"\"\n",
    "    if multi_class == 'ovr':\n",
    "        ovr = OneVsRestClassifier(estimator)\n",
    "        ovr.fit(X_train, y_train)\n",
    "        print('准确度:', ovr.score(X_test, y_test))\n",
    "        return ovr\n",
    "    else:\n",
    "        ovo = OneVsOneClassifier(estimator)\n",
    "        ovo.fit(X_train, y_train)\n",
    "        print('准确度:', ovo.score(X_test, y_test))\n",
    "        return ovo\n",
    "        \n",
    "        \n",
    "def MultiClassLogisticRegression(multi_class):\n",
    "    \"\"\"多分类逻辑回归\"\"\"\n",
    "    from sklearn.linear_model import LogisticRegression\n",
    "    return MultiClassifier(LogisticRegression(), multi_class)\n",
    "\n",
    "\n",
    "MultiClassLogisticRegression('ovr')\n",
    "MultiClassLogisticRegression('ovo')"
   ]
  },
  {
   "cell_type": "markdown",
   "metadata": {},
   "source": [
    "# 分类问题的评价\n",
    "## 指标\n",
    "- **精准率** = 某个分类预测正确的总数 / 某个分类预测值的总数\n",
    "- **召回率** = 某个分类预测正确的总数 / 某个分类真实值的总数\n",
    "- **调和平均值** = 2 * 精准率 * 召回率 / (精准率 + 召回率)"
   ]
  },
  {
   "cell_type": "code",
   "execution_count": null,
   "metadata": {},
   "outputs": [],
   "source": [
    "from sklearn.datasets import load_digits\n",
    "from sklearn.model_selection import train_test_split\n",
    "from sklearn.linear_model import LogisticRegression"
   ]
  },
  {
   "cell_type": "code",
   "execution_count": null,
   "metadata": {},
   "outputs": [],
   "source": [
    "digits = load_digits()\n",
    "X = digits.data\n",
    "y = digits.target.copy()\n",
    "\n",
    "# 产生极度偏斜数据【二分类】\n",
    "y[digits.target == 9] = 1\n",
    "y[digits.target != 9] = 0\n",
    "\n",
    "X_train, X_test, y_train, y_test = train_test_split(X, y, random_state=666)\n",
    "\n",
    "log_reg_2 = LogisticRegression()\n",
    "log_reg_2.fit(X_train, y_train)"
   ]
  },
  {
   "cell_type": "code",
   "execution_count": null,
   "metadata": {},
   "outputs": [],
   "source": [
    "def test_threshold_0(log_reg):\n",
    "    a = log_reg.decision_function(X_test)[50: 60]  # 逻辑回归分数\n",
    "    b = log_reg.predict(X_test)[50: 60]  # 以 0 作为分类边界\n",
    "    print(np.vstack((a, b)).T)\n",
    "\n",
    "\n",
    "def predict(log_reg, X_test, n=0):\n",
    "    \"\"\"二分类: 调整分类阈值，重新计算预测值\"\"\"\n",
    "    decision_scores = log_reg.decision_function(X_test)\n",
    "    return np.array(decision_scores >= n, dtype='int')\n",
    "\n",
    "\n",
    "def evaluate(y_true, y_predict):\n",
    "    \"\"\"二分类: 评价分类算法\"\"\"\n",
    "    from sklearn.metrics import confusion_matrix\n",
    "    from sklearn.metrics import precision_score\n",
    "    from sklearn.metrics import recall_score\n",
    "    from sklearn.metrics import f1_score\n",
    "\n",
    "    cm = confusion_matrix(y_test, y_predict)\n",
    "    ps = precision_score(y_true, y_predict)\n",
    "    rs = recall_score(y_true, y_predict)\n",
    "    fs = f1_score(y_true, y_predict)\n",
    "    print(\"混淆矩阵：\\n\", cm)\n",
    "    print(\"精准率：\", ps)\n",
    "    print(\"召回率：\", rs)\n",
    "    print(\"调和平均值：\", fs)\n",
    "\n",
    "\n",
    "if __name__ == '__main__':\n",
    "    # 测试: 逻辑回归算法的分类阈值\n",
    "    test_threshold_0(log_reg_2)\n",
    "    if not np.sum(predict(log_reg_2, X_test) != log_reg_2.predict(X_test)):\n",
    "        print(\"--> log_reg.predict默认以0作为分类阈值。\")"
   ]
  },
  {
   "cell_type": "code",
   "execution_count": null,
   "metadata": {},
   "outputs": [],
   "source": [
    "evaluate(y_test, predict(log_reg_2, X_test, -5))"
   ]
  },
  {
   "cell_type": "code",
   "execution_count": null,
   "metadata": {},
   "outputs": [],
   "source": [
    "evaluate(y_test, predict(log_reg_2, X_test, 0))"
   ]
  },
  {
   "cell_type": "code",
   "execution_count": null,
   "metadata": {},
   "outputs": [],
   "source": [
    "evaluate(y_test, predict(log_reg_2, X_test, 5))"
   ]
  },
  {
   "cell_type": "markdown",
   "metadata": {},
   "source": [
    "## pr曲线"
   ]
  },
  {
   "cell_type": "code",
   "execution_count": null,
   "metadata": {},
   "outputs": [],
   "source": [
    "from sklearn.metrics import precision_score, recall_score\n",
    "import matplotlib.pyplot as plt\n",
    "import numpy as np\n",
    "\n",
    "\n",
    "def plot_pr_curve(y_true, decision_scores):\n",
    "    \"\"\"绘制pr曲线\"\"\"\n",
    "    assert len(np.unique(y_true)) <= 2, \"只能绘制二分类PR曲线\"\n",
    "\n",
    "    precisions = []\n",
    "    recalls = []\n",
    "    thresholds = np.arange(np.min(decision_scores), np.max(decision_scores), 0.1)\n",
    "    for threshold in thresholds:\n",
    "        y_predict = np.array(decision_scores >= threshold, dtype=int)\n",
    "        precisions.append(precision_score(y_true, y_predict))\n",
    "        recalls.append(recall_score(y_true, y_predict))\n",
    "    \n",
    "    plt.figure(figsize=(9, 3), dpi=100)\n",
    "    plt.subplot(1, 2, 1)\n",
    "    plt.plot(thresholds, precisions, label='精准率')\n",
    "    plt.plot(thresholds, recalls, label='召回率')\n",
    "    plt.xlabel(\"分类阈值\")\n",
    "    plt.ylabel(\"指标\")\n",
    "    plt.legend()\n",
    "    plt.subplot(1, 2, 2)\n",
    "    plt.plot(precisions, recalls)\n",
    "    plt.xlabel(\"精准率\")\n",
    "    plt.ylabel(\"召回率\")\n",
    "    plt.show()"
   ]
  },
  {
   "cell_type": "code",
   "execution_count": null,
   "metadata": {},
   "outputs": [],
   "source": [
    "plot_pr_curve(y_test, log_reg_2.decision_function(X_test))"
   ]
  },
  {
   "cell_type": "markdown",
   "metadata": {},
   "source": [
    "## roc曲线"
   ]
  },
  {
   "cell_type": "code",
   "execution_count": null,
   "metadata": {},
   "outputs": [],
   "source": [
    "import matplotlib.pyplot as plt\n",
    "import numpy as np\n",
    "\n",
    "\n",
    "def plot_roc_curve(y_true, decision_scores):\n",
    "    \"\"\"绘制roc曲线\"\"\"\n",
    "    assert len(np.unique(y_true)) <= 2, \"只能绘制二分类ROC曲线\"\n",
    "    \n",
    "    def TN(y_true, y_predict):\n",
    "        assert len(y_true) == len(y_predict), \\\n",
    "        \"the size of y_true must equal to the size of y_predict\"\n",
    "        return np.sum((y_true == 0) & (y_predict == 0))\n",
    "    \n",
    "    def FP(y_true, y_predict):\n",
    "        assert len(y_true) == len(y_predict), \\\n",
    "        \"the size of y_true must equal to the size of y_predict\"\n",
    "        return np.sum((y_true == 0) & (y_predict == 1))\n",
    "    \n",
    "    def FN(y_true, y_predict):\n",
    "        assert len(y_true) == len(y_predict), \\\n",
    "        \"the size of y_true must equal to the size of y_predict\"\n",
    "        return np.sum((y_true == 1) & (y_predict == 0))\n",
    "    \n",
    "    def TP(y_true, y_predict):\n",
    "        assert len(y_true) == len(y_predict), \\\n",
    "        \"the size of y_true must equal to the size of y_predict\"\n",
    "        return np.sum((y_true == 1) & (y_predict == 1))\n",
    "        \n",
    "    def TPR(y_true, y_predict):\n",
    "        tp = TP(y_true, y_predict)\n",
    "        fn = FN(y_true, y_predict)\n",
    "        try:\n",
    "            return tp / (tp + fn)\n",
    "        except:\n",
    "            return 0.\n",
    "\n",
    "    def FPR(y_true, y_predict):\n",
    "        fp = FP(y_true, y_predict)\n",
    "        tn = TN(y_true, y_predict)\n",
    "        try:\n",
    "            return fp / (fp + tn)\n",
    "        except:\n",
    "            return 0.\n",
    "\n",
    "    fprs = []\n",
    "    tprs = []\n",
    "    thresholds = np.arange(np.min(decision_scores), np.max(decision_scores), 0.1)\n",
    "    for threshold in thresholds:\n",
    "        y_predict = np.array(decision_scores >= threshold, dtype=int)\n",
    "        fprs.append(FPR(y_true, y_predict))\n",
    "        tprs.append(TPR(y_true, y_predict))\n",
    "    \n",
    "    plt.figure(figsize=(9, 4), dpi=100)\n",
    "    plt.subplot(1, 2, 1)\n",
    "    plt.plot(thresholds, fprs, label='fprs')\n",
    "    plt.plot(thresholds, tprs, label='tprs')\n",
    "    plt.xlabel(\"分类阈值\")\n",
    "    plt.ylabel(\"指标\")\n",
    "    plt.legend()\n",
    "    plt.subplot(1, 2, 2)\n",
    "    plt.plot(fprs, tprs)\n",
    "    plt.xlabel(\"fprs\")\n",
    "    plt.ylabel(\"tprs\")\n",
    "    plt.show()"
   ]
  },
  {
   "cell_type": "code",
   "execution_count": null,
   "metadata": {},
   "outputs": [],
   "source": [
    "plot_roc_curve(y_test, log_reg_2.decision_function(X_test))"
   ]
  },
  {
   "cell_type": "markdown",
   "metadata": {},
   "source": [
    "**计算ROC曲线包围的面积auc: area under curve**"
   ]
  },
  {
   "cell_type": "code",
   "execution_count": null,
   "metadata": {},
   "outputs": [],
   "source": [
    "from sklearn.metrics import roc_auc_score\n",
    "print(roc_auc_score(y_test, log_reg_2.decision_function(X_test)))"
   ]
  },
  {
   "cell_type": "markdown",
   "metadata": {},
   "source": [
    "## 绘制混淆矩阵"
   ]
  },
  {
   "cell_type": "code",
   "execution_count": null,
   "metadata": {},
   "outputs": [],
   "source": [
    "import matplotlib.pyplot as plt\n",
    "import numpy as np\n",
    "\n",
    "\n",
    "def plot_confusion_matrix(cfm):\n",
    "    \"\"\"绘制混淆矩阵\"\"\"\n",
    "    plt.figure(figsize=(9, 4), dpi=100)\n",
    "\n",
    "    ax1 = plt.subplot(1, 2, 1)\n",
    "    ax1.matshow(cfm, cmap=plt.cm.gray)\n",
    "    plt.title(\"正确预测\")\n",
    "\n",
    "    ax2 = plt.subplot(1, 2, 2)\n",
    "    row_sums = np.sum(cfm, axis=0)\n",
    "    err_matrix = cfm / row_sums  # 百分比\n",
    "    np.fill_diagonal(err_matrix, 0)  # 对角线元素置为0\n",
    "    ax2.matshow(err_matrix, cmap=plt.cm.gray)\n",
    "    plt.title(\"错误预测\")\n",
    "\n",
    "    plt.show()"
   ]
  },
  {
   "cell_type": "code",
   "execution_count": null,
   "metadata": {},
   "outputs": [],
   "source": [
    "from sklearn.datasets import load_digits\n",
    "from sklearn.model_selection import train_test_split\n",
    "from sklearn.linear_model import LogisticRegression\n",
    "from sklearn.metrics import confusion_matrix\n",
    "\n",
    "digits = load_digits()\n",
    "X = digits.data\n",
    "y = digits.target\n",
    "\n",
    "X_train, X_test, y_train, y_test = train_test_split(X, y, test_size=0.8, random_state=666)\n",
    "\n",
    "log_reg = LogisticRegression()\n",
    "log_reg.fit(X_train, y_train)\n",
    "\n",
    "cfm = confusion_matrix(y_test, log_reg.predict(X_test))\n",
    "print(cfm)\n",
    "plot_confusion_matrix(cfm)"
   ]
  },
  {
   "cell_type": "code",
   "execution_count": null,
   "metadata": {},
   "outputs": [],
   "source": []
  },
  {
   "cell_type": "code",
   "execution_count": null,
   "metadata": {},
   "outputs": [],
   "source": []
  }
 ],
 "metadata": {
  "kernelspec": {
   "display_name": "Python 3",
   "language": "python",
   "name": "python3"
  },
  "language_info": {
   "codemirror_mode": {
    "name": "ipython",
    "version": 3
   },
   "file_extension": ".py",
   "mimetype": "text/x-python",
   "name": "python",
   "nbconvert_exporter": "python",
   "pygments_lexer": "ipython3",
   "version": "3.7.2"
  },
  "toc": {
   "base_numbering": 1.0,
   "nav_menu": {},
   "number_sections": true,
   "sideBar": true,
   "skip_h1_title": false,
   "title_cell": "Table of Contents",
   "title_sidebar": "Contents",
   "toc_cell": false,
   "toc_position": {
    "height": "calc(100% - 180px)",
    "left": "10px",
    "top": "150px",
    "width": "295.513px"
   },
   "toc_section_display": true,
   "toc_window_display": true
  }
 },
 "nbformat": 4,
 "nbformat_minor": 5
}
