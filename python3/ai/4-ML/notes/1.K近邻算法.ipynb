{
 "cells": [
  {
   "cell_type": "markdown",
   "metadata": {},
   "source": [
    "# knn原理"
   ]
  },
  {
   "cell_type": "code",
   "execution_count": null,
   "metadata": {},
   "outputs": [],
   "source": [
    "import numpy as np\n",
    "import matplotlib.pyplot as plt\n",
    "from collections import Counter\n",
    "from math import sqrt"
   ]
  },
  {
   "cell_type": "code",
   "execution_count": null,
   "metadata": {},
   "outputs": [],
   "source": [
    "raw_data_X = [[3.393533211, 2.331273381],\n",
    "              [3.110073408, 1.781539638],\n",
    "              [1.343808831, 3.368360945],\n",
    "              [3.582294042, 4.679179110],\n",
    "              [2.280362439, 2.866990263],\n",
    "              [7.423436942, 4.696522875],\n",
    "              [5.745051997, 3.533989803],\n",
    "              [9.172168622, 2.511101045],\n",
    "              [7.792783481, 3.424088941],\n",
    "              [7.939820817, 0.791637231]\n",
    "              ]\n",
    "raw_data_y = [0, 0, 0, 0, 0, 1, 1, 1, 1, 1]\n",
    "\n",
    "\n",
    "# 显示数据集\n",
    "\n",
    "X_train = np.array(raw_data_X)            # 训练集\n",
    "y_train = np.array(raw_data_y)\n",
    "x = np.array([8.093607318, 3.365731514])  # 测试集\n",
    "\n",
    "# 绘制\n",
    "plt.scatter(X_train[y_train == 0, 0], X_train[y_train == 0, 1], color='g')\n",
    "plt.scatter(X_train[y_train == 1, 0], X_train[y_train == 1, 1], color='r')\n",
    "plt.scatter(x[0], x[1], color='b')\n",
    "plt.show()\n",
    "\n",
    "\n",
    "# knn过程\n",
    "\n",
    "# 1.计算预测点与每个点之间的距离\n",
    "distances = [sqrt(np.sum((x_train - x) ** 2)) for x_train in X_train]\n",
    "# print(distances)\n",
    "\n",
    "# 2.排序查找最近 k 个点的下标\n",
    "k = 6\n",
    "nearest = np.argsort(distances)\n",
    "topK_y = [y_train[i] for i in nearest[:k]]\n",
    "# print(topK_y)\n",
    "\n",
    "# 3.根据最近 k 个点的标签，进行预测\n",
    "votes = Counter(topK_y)\n",
    "# print(votes.most_common(1))\n",
    "predict_y = votes.most_common(1)[0][0]\n",
    "predict_y"
   ]
  },
  {
   "cell_type": "markdown",
   "metadata": {},
   "source": [
    "# 测试自己封装的库"
   ]
  },
  {
   "cell_type": "code",
   "execution_count": null,
   "metadata": {},
   "outputs": [],
   "source": [
    "%%time\n",
    "import os, sys\n",
    "sys.path.append(os.path.abspath('..'))\n",
    "%run ../testML/1.knn.py"
   ]
  },
  {
   "cell_type": "markdown",
   "metadata": {},
   "source": [
    "# 使用scikit-learn"
   ]
  },
  {
   "cell_type": "code",
   "execution_count": null,
   "metadata": {},
   "outputs": [],
   "source": [
    "# coding:utf-8\n",
    "\"\"\"\n",
    "1.获取数据集\n",
    "2.数据基本处理\n",
    "3.特征工程\n",
    "4.机器学习(knn算法)\n",
    "5.模型评估\n",
    "\"\"\";"
   ]
  },
  {
   "cell_type": "code",
   "execution_count": null,
   "metadata": {},
   "outputs": [],
   "source": [
    "from sklearn.datasets import load_iris                  # 1.获取数据集\n",
    "from sklearn.model_selection import train_test_split    # 2.数据分割\n",
    "from sklearn.preprocessing import StandardScaler        # 3.数据标准化\n",
    "from sklearn.neighbors import KNeighborsClassifier      # 4-5.knn模型\n",
    "from sklearn.model_selection import GridSearchCV        # 4.2网格搜索、交叉验证"
   ]
  },
  {
   "cell_type": "code",
   "execution_count": null,
   "metadata": {},
   "outputs": [],
   "source": [
    "# 1.获取数据集\n",
    "iris = load_iris()\n",
    "\n",
    "\n",
    "# 2.数据基本处理\n",
    "# 2.1 异常值、缺失值处理\n",
    "\n",
    "# 2.2 数据集分割：测试集、训练集\n",
    "x_train, x_test, y_train, y_test = train_test_split(\n",
    "    iris.data, iris.target, random_state=22, test_size=0.2)  # 20%测试集\n",
    "\n",
    "\n",
    "# 3.特征工程\n",
    "# 3.1 实例化一个转换器\n",
    "transfer = StandardScaler()\n",
    "\n",
    "# 3.2 调用fit、transform方法：对特征值进行标准化，消除量纲影响\n",
    "transfer.fit(x_train)\n",
    "x_train = transfer.transform(x_train)\n",
    "x_test = transfer.transform(x_test)\n",
    "\n",
    "\n",
    "# 4.机器学习\n",
    "# 4.1 实例化一个估计器\n",
    "estimater = KNeighborsClassifier(n_neighbors=4)  # knn超参数：k\n",
    "\n",
    "# 4.2 交叉验证、网格搜索，进行模型选择与调优\n",
    "param_grid = {\"n_neighbors\": [1, 3, 5, 7, 9]}   # 网格搜索 k\n",
    "estimater = GridSearchCV(\n",
    "    estimater, param_grid=param_grid, cv=10, n_jobs=1)  # 10折交叉验证\n",
    "\n",
    "# 4.3 模型训练\n",
    "estimater.fit(x_train, y_train)\n",
    "\n",
    "# 5.模型评估\n",
    "# 5.1 输出预测值\n",
    "y_pre = estimater.predict(x_test)\n",
    "print(\"预测值是:\\n\", y_pre)\n",
    "print(\"真实值是:\\n\", y_test)\n",
    "\n",
    "# 5.2 输出准确率\n",
    "ret = estimater.score(x_test, y_test)\n",
    "print(\"准确率是:\\n\", ret)\n",
    "\n",
    "# 5.3 其他评价指标\n",
    "print(\"最好的模型:\\n\", estimater.best_estimator_)\n",
    "print(\"最好的结果:\\n\", estimater.best_score_)\n",
    "print(\"整体模型结果:\\n\", estimater.cv_results_)"
   ]
  },
  {
   "cell_type": "code",
   "execution_count": null,
   "metadata": {},
   "outputs": [],
   "source": []
  },
  {
   "cell_type": "code",
   "execution_count": null,
   "metadata": {},
   "outputs": [],
   "source": []
  }
 ],
 "metadata": {
  "kernelspec": {
   "display_name": "Python 3",
   "language": "python",
   "name": "python3"
  },
  "language_info": {
   "codemirror_mode": {
    "name": "ipython",
    "version": 3
   },
   "file_extension": ".py",
   "mimetype": "text/x-python",
   "name": "python",
   "nbconvert_exporter": "python",
   "pygments_lexer": "ipython3",
   "version": "3.7.2"
  },
  "toc": {
   "base_numbering": 1.0,
   "nav_menu": {},
   "number_sections": true,
   "sideBar": true,
   "skip_h1_title": false,
   "title_cell": "Table of Contents",
   "title_sidebar": "Contents",
   "toc_cell": false,
   "toc_position": {
    "height": "calc(100% - 180px)",
    "left": "10px",
    "top": "150px",
    "width": "328.337px"
   },
   "toc_section_display": true,
   "toc_window_display": true
  }
 },
 "nbformat": 4,
 "nbformat_minor": 5
}
