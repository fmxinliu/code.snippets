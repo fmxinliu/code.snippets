{
 "cells": [
  {
   "cell_type": "code",
   "execution_count": null,
   "metadata": {},
   "outputs": [],
   "source": [
    "import numpy as np\n",
    "import matplotlib.pyplot as plt"
   ]
  },
  {
   "cell_type": "markdown",
   "metadata": {},
   "source": [
    "# 决策树解决分类问题"
   ]
  },
  {
   "cell_type": "code",
   "execution_count": null,
   "metadata": {},
   "outputs": [],
   "source": [
    "def DecisionTreeClassifierTest(X, y, criterion, max_depth=2):\n",
    "    def plot_decision_boundary(model, axis):\n",
    "        \"\"\"绘制决策边界\"\"\"\n",
    "        x0, x1 = np.meshgrid(\n",
    "            np.linspace(axis[0], axis[1], int((axis[1]-axis[0])*100)),\n",
    "            np.linspace(axis[2], axis[3], int((axis[3]-axis[2])*100))\n",
    "        )\n",
    "        X_new = np.c_[x0.ravel(), x1.ravel()]\n",
    "\n",
    "        y_predict = model.predict(X_new)\n",
    "        zz = y_predict.reshape(x0.shape)\n",
    "\n",
    "        from matplotlib.colors import ListedColormap\n",
    "        custom_cmap = ListedColormap(['#EF9A9A', '#FFF59D', '#90CAF9'])\n",
    "\n",
    "        plt.contourf(x0, x1, zz, cmap=custom_cmap)\n",
    "\n",
    "\n",
    "    def plot_scatter(X, y):\n",
    "        plt.scatter(X[y == 0, 0], X[y == 0, 1])\n",
    "        plt.scatter(X[y == 1, 0], X[y == 1, 1])\n",
    "        plt.scatter(X[y == 2, 0], X[y == 2, 1])\n",
    "    \n",
    "    from sklearn.tree import DecisionTreeClassifier\n",
    "    dt_clf = DecisionTreeClassifier(\n",
    "        max_depth=max_depth, criterion=criterion, random_state=66)\n",
    "    dt_clf.fit(X, y)\n",
    "    plot_decision_boundary(dt_clf, axis=[0.5, 7.5, 0, 3])\n",
    "    plot_scatter(X, y)"
   ]
  },
  {
   "cell_type": "code",
   "execution_count": null,
   "metadata": {
    "scrolled": true
   },
   "outputs": [],
   "source": [
    "from sklearn.datasets import load_iris\n",
    "iris = load_iris()\n",
    "X = iris.data[:, 2:]\n",
    "y = iris.target"
   ]
  },
  {
   "cell_type": "markdown",
   "metadata": {},
   "source": [
    "## 信息熵\n",
    "- **公式:** H(X)= −∑{p(*xi*)`*`log[p(*xi*)]}, *i*∈[1, m]，p(*xi*)表示类别*xi*发生的概率，所以∑p(*xi*)=1\n",
    "- **实际意义:** 熵越大，数据的不确定性越高。当 p(*xk*)=1 时，H(X)=0，表示数据归为一类，不确定性最低\n",
    "\n",
    "### 划分效果"
   ]
  },
  {
   "cell_type": "code",
   "execution_count": null,
   "metadata": {},
   "outputs": [],
   "source": [
    "DecisionTreeClassifierTest(X, y, criterion='entropy')"
   ]
  },
  {
   "cell_type": "markdown",
   "metadata": {},
   "source": [
    "### 函数直观理解"
   ]
  },
  {
   "cell_type": "code",
   "execution_count": null,
   "metadata": {},
   "outputs": [],
   "source": [
    "def plot_entropy():\n",
    "    \"\"\"二分类问题的信息熵\"\"\"\n",
    "    def entropy(p): \n",
    "        return -p * np.log(p) - (1 - p) * np.log(1 - p)\n",
    "    \n",
    "    x = np.linspace(0.01, 0.99, 200)\n",
    "    plt.plot(x, entropy(x))\n",
    "    plt.show()"
   ]
  },
  {
   "cell_type": "code",
   "execution_count": null,
   "metadata": {
    "scrolled": true
   },
   "outputs": [],
   "source": [
    "plot_entropy()"
   ]
  },
  {
   "cell_type": "markdown",
   "metadata": {},
   "source": [
    "### 模拟寻找最优划分"
   ]
  },
  {
   "cell_type": "code",
   "execution_count": null,
   "metadata": {},
   "outputs": [],
   "source": [
    "def entropy(y):\n",
    "    \"\"\"统计数据类别，计算信息熵\"\"\"\n",
    "    from collections import Counter\n",
    "    from math import log\n",
    "    counter = Counter(y)   # 统计类别\n",
    "    res = 0.0\n",
    "    for num in counter.values():\n",
    "        p = num / len(y)    # 计算每个类别的概率\n",
    "        res += -p * log(p)  # 计算熵\n",
    "    return res\n",
    "\n",
    "\n",
    "def split(X, y, d, v):\n",
    "    \"\"\"根据某一个维度d和某一个阈值v，将数据集划分为两部分\"\"\"\n",
    "    index_a = (X[:, d] <= v)\n",
    "    index_b = (X[:, d] > v)\n",
    "    return X[index_a], X[index_b], y[index_a], y[index_b]\n",
    "\n",
    "\n",
    "def try_split(X, y, f_wave):\n",
    "    \"\"\"迭代找到划分维度d、划分阈值v\"\"\"\n",
    "    best_wave = np.float32('inf')\n",
    "    best_d, best_v = -1, -1\n",
    "\n",
    "    # 遍历每个维度\n",
    "    for d in range(X.shape[1]):\n",
    "        sorted_index = np.argsort(X[:, d])\n",
    "        # 遍历本维度所有数据\n",
    "        for i in range(1, len(X)):\n",
    "            if X[sorted_index[i-1], d] == X[sorted_index[i], d]:\n",
    "                continue\n",
    "\n",
    "            # 1.取两个相邻的数据，以中间值为阈值，尝试划分为两部分\n",
    "            v = (X[sorted_index[i-1], d] + X[sorted_index[i], d]) / 2\n",
    "            X_l, X_r, y_l, y_r = split(X, y, d, v)\n",
    "\n",
    "            # 2.计算本次划分后的信息熵或基尼系数\n",
    "            e = f_wave(y_l) + f_wave(y_r)\n",
    "\n",
    "            # 3.判断指标是否最小\n",
    "            if e < best_wave:\n",
    "                best_wave, best_d, best_v = e, d, v\n",
    "\n",
    "    return best_wave, best_d, best_v\n",
    "\n",
    "\n",
    "def plot_split(X, y, best_d, best_v, color='r'):\n",
    "    plt.scatter(X[y == 0, 0], X[y == 0, 1])\n",
    "    plt.scatter(X[y == 1, 0], X[y == 1, 1])\n",
    "    plt.scatter(X[y == 2, 0], X[y == 2, 1])\n",
    "\n",
    "    min_ = np.min(X[:, 1-best_d])\n",
    "    max_ = np.max(X[:, 1-best_d])\n",
    "    if best_d == 0:\n",
    "        plt.plot([best_v, best_v], [min_, max_], color=color)\n",
    "    else:\n",
    "        plt.plot([min_, max_], [best_v, best_v], color=color)"
   ]
  },
  {
   "cell_type": "markdown",
   "metadata": {},
   "source": [
    "**第一次划分**"
   ]
  },
  {
   "cell_type": "code",
   "execution_count": null,
   "metadata": {},
   "outputs": [],
   "source": [
    "# 节点一: 迭代划分维度d、阈值v\n",
    "best_entropy, best_d, best_v = try_split(X, y, f_wave=entropy)\n",
    "plot_split(X, y, best_d, best_v, color='r')\n",
    "print(\"信息熵:\", best_entropy)\n",
    "print(\"维度  :\", best_d)\n",
    "print(\"阈值  :\", best_v)"
   ]
  },
  {
   "cell_type": "code",
   "execution_count": null,
   "metadata": {},
   "outputs": [],
   "source": [
    "# 节点一: 在维度d上，根据阈值v划分后的两部分\n",
    "X1_l, X1_r, y1_l, y1_r = split(X, y, best_d , best_v)"
   ]
  },
  {
   "cell_type": "code",
   "execution_count": null,
   "metadata": {},
   "outputs": [],
   "source": [
    "entropy(y1_l)  # 左半部分已被完全划分"
   ]
  },
  {
   "cell_type": "code",
   "execution_count": null,
   "metadata": {},
   "outputs": [],
   "source": [
    "entropy(y1_r)  # 右半部分还可以继续划分"
   ]
  },
  {
   "cell_type": "markdown",
   "metadata": {},
   "source": [
    "**第二次划分**"
   ]
  },
  {
   "cell_type": "code",
   "execution_count": null,
   "metadata": {},
   "outputs": [],
   "source": [
    "# 节点二: 迭代划分维度d、阈值v\n",
    "best_entropy2, best_d2, best_v2 = try_split(X1_r, y1_r, f_wave=entropy)\n",
    "plot_split(X, y, best_d2, best_v2, color='b')\n",
    "print(\"信息熵:\", best_entropy2)\n",
    "print(\"维度  :\", best_d2)\n",
    "print(\"阈值  :\", best_v2)"
   ]
  },
  {
   "cell_type": "code",
   "execution_count": null,
   "metadata": {},
   "outputs": [],
   "source": [
    "# 节点二: 在维度d上，根据阈值v划分后的两部分\n",
    "X2_l, X2_r, y2_l, y2_r = split(X1_r, y1_r, best_d2 , best_v2)"
   ]
  },
  {
   "cell_type": "code",
   "execution_count": null,
   "metadata": {},
   "outputs": [],
   "source": [
    "entropy(y2_l)"
   ]
  },
  {
   "cell_type": "code",
   "execution_count": null,
   "metadata": {},
   "outputs": [],
   "source": [
    "entropy(y2_r)"
   ]
  },
  {
   "cell_type": "markdown",
   "metadata": {},
   "source": [
    "## 基尼系数\n",
    "- **公式:** G(X)= 1 − ∑{p(*xi*)^2}, *i*∈[1, m]，p(*xi*)表示类别*xi*发生的概率，所以∑p(*xi*)=1\n",
    "- **实际意义:** 基尼系数越大，数据的不确定性越高。当 p(*xk*)=1 时，H(X)=0，表示数据归为一类，不确定性最低\n",
    "\n",
    "### 划分效果"
   ]
  },
  {
   "cell_type": "code",
   "execution_count": null,
   "metadata": {},
   "outputs": [],
   "source": [
    "DecisionTreeClassifierTest(X, y, criterion='gini')"
   ]
  },
  {
   "cell_type": "markdown",
   "metadata": {},
   "source": [
    "### 函数直观理解"
   ]
  },
  {
   "cell_type": "code",
   "execution_count": null,
   "metadata": {},
   "outputs": [],
   "source": [
    "def plot_gini():\n",
    "    \"\"\"二分类问题的基尼系数\"\"\"\n",
    "    def gini(p): \n",
    "        return 1 - (p ** 2 + (1 - p) ** 2)\n",
    "    \n",
    "    x = np.linspace(0.01, 0.99, 200)\n",
    "    plt.plot(x, gini(x))\n",
    "    plt.show()"
   ]
  },
  {
   "cell_type": "code",
   "execution_count": null,
   "metadata": {},
   "outputs": [],
   "source": [
    "plot_gini()"
   ]
  },
  {
   "cell_type": "markdown",
   "metadata": {},
   "source": [
    "### 模拟寻找最优划分"
   ]
  },
  {
   "cell_type": "code",
   "execution_count": null,
   "metadata": {},
   "outputs": [],
   "source": [
    "def gini(y):\n",
    "    \"\"\"统计数据类别，计算信息熵\"\"\"\n",
    "    from collections import Counter\n",
    "    from math import log\n",
    "    counter = Counter(y)   # 统计类别\n",
    "    res = 1.0\n",
    "    for num in counter.values():\n",
    "        p = num / len(y)    # 计算每个类别的概率\n",
    "        res -= p ** 2       # 计算基尼系数\n",
    "    return res"
   ]
  },
  {
   "cell_type": "markdown",
   "metadata": {},
   "source": [
    "**第一次划分**"
   ]
  },
  {
   "cell_type": "code",
   "execution_count": null,
   "metadata": {},
   "outputs": [],
   "source": [
    "# 节点一: 迭代划分维度d、阈值v\n",
    "best_gini, best_d, best_v = try_split(X, y, f_wave=gini)\n",
    "plot_split(X, y, best_d, best_v, color='r')\n",
    "print(\"基尼系数:\", best_gini)\n",
    "print(\"维度  :\", best_d)\n",
    "print(\"阈值  :\", best_v)"
   ]
  },
  {
   "cell_type": "code",
   "execution_count": null,
   "metadata": {},
   "outputs": [],
   "source": [
    "# 节点一: 在维度d上，根据阈值v划分后的两部分\n",
    "X1_l, X1_r, y1_l, y1_r = split(X, y, best_d , best_v)"
   ]
  },
  {
   "cell_type": "code",
   "execution_count": null,
   "metadata": {},
   "outputs": [],
   "source": [
    "gini(y1_l)  # 左半部分已被完全划分"
   ]
  },
  {
   "cell_type": "code",
   "execution_count": null,
   "metadata": {},
   "outputs": [],
   "source": [
    "gini(y1_r)  # 右半部分还可以继续划分"
   ]
  },
  {
   "cell_type": "markdown",
   "metadata": {},
   "source": [
    "**第二次划分**"
   ]
  },
  {
   "cell_type": "code",
   "execution_count": null,
   "metadata": {},
   "outputs": [],
   "source": [
    "# 节点二: 迭代划分维度d、阈值v\n",
    "best_gini2, best_d2, best_v2 = try_split(X1_r, y1_r, f_wave=gini)\n",
    "plot_split(X, y, best_d2, best_v2, color='b')\n",
    "print(\"基尼系数:\", best_gini2)\n",
    "print(\"维度  :\", best_d2)\n",
    "print(\"阈值  :\", best_v2)"
   ]
  },
  {
   "cell_type": "code",
   "execution_count": null,
   "metadata": {},
   "outputs": [],
   "source": [
    "gini(y2_l)"
   ]
  },
  {
   "cell_type": "code",
   "execution_count": null,
   "metadata": {},
   "outputs": [],
   "source": [
    "gini(y2_r)"
   ]
  },
  {
   "cell_type": "markdown",
   "metadata": {},
   "source": [
    "# 决策树解决回归问题"
   ]
  },
  {
   "cell_type": "code",
   "execution_count": null,
   "metadata": {},
   "outputs": [],
   "source": [
    "from sklearn.datasets import load_boston\n",
    "from sklearn.model_selection import train_test_split\n",
    "from sklearn.tree import DecisionTreeRegressor"
   ]
  },
  {
   "cell_type": "code",
   "execution_count": null,
   "metadata": {},
   "outputs": [],
   "source": [
    "def plot_learning_curve(algo, X_train, X_test, y_train, y_test):\n",
    "    \"\"\"绘制学习曲线\"\"\"\n",
    "    import numpy as np\n",
    "    import matplotlib.pyplot as plt\n",
    "    from sklearn.metrics import mean_squared_error\n",
    "\n",
    "    train_score = []\n",
    "    test_score = []\n",
    "    for i in range(1, len(X_train)+1):\n",
    "        algo.fit(X_train[:i], y_train[:i])\n",
    "\n",
    "        y_train_predict = algo.predict(X_train[:i])\n",
    "        train_score.append(mean_squared_error(y_train[:i], y_train_predict))\n",
    "\n",
    "        y_test_predict = algo.predict(X_test)\n",
    "        test_score.append(mean_squared_error(y_test, y_test_predict))\n",
    "\n",
    "    plt.plot([i for i in range(1, len(X_train)+1)], np.sqrt(train_score), label='train')\n",
    "    plt.plot([i for i in range(1, len(X_train)+1)], np.sqrt(test_score), label='test')\n",
    "    plt.legend()\n",
    "    plt.show()"
   ]
  },
  {
   "cell_type": "code",
   "execution_count": null,
   "metadata": {},
   "outputs": [],
   "source": [
    "# 1.加载数据集\n",
    "boston = load_boston()\n",
    "X = iris.data[:, 2:]\n",
    "y = iris.target\n",
    "\n",
    "# 2.划分数据集\n",
    "X_train, X_test, y_train, y_test = train_test_split(X, y, random_state=22)\n",
    "\n",
    "# 3.模型训练\n",
    "def DecisionTreeRegressorTest(model):\n",
    "    model.fit(X_train, y_train)\n",
    "    print(model.score(X_test, y_test))\n",
    "    plot_learning_curve(model, X_train, X_test, y_train, y_test)"
   ]
  },
  {
   "cell_type": "code",
   "execution_count": null,
   "metadata": {},
   "outputs": [],
   "source": [
    "DecisionTreeRegressorTest(DecisionTreeRegressor())"
   ]
  },
  {
   "cell_type": "code",
   "execution_count": null,
   "metadata": {},
   "outputs": [],
   "source": [
    "DecisionTreeRegressorTest(DecisionTreeRegressor(max_depth=1))"
   ]
  },
  {
   "cell_type": "code",
   "execution_count": null,
   "metadata": {},
   "outputs": [],
   "source": [
    "DecisionTreeRegressorTest(DecisionTreeRegressor(max_depth=2))"
   ]
  },
  {
   "cell_type": "code",
   "execution_count": null,
   "metadata": {},
   "outputs": [],
   "source": [
    "DecisionTreeRegressorTest(DecisionTreeRegressor(max_depth=3))"
   ]
  },
  {
   "cell_type": "code",
   "execution_count": null,
   "metadata": {},
   "outputs": [],
   "source": [
    "dt_reg = DecisionTreeRegressor(max_depth=2)\n",
    "dt_reg.fit(X_train, y_train)\n",
    "y_predict = dt_reg.predict(X_test)\n",
    "\n",
    "plt.scatter(np.arange(len(X_test)), y_test, color='g')\n",
    "plt.scatter(np.arange(len(X_test)), y_predict, color='r')\n",
    "plt.show()"
   ]
  },
  {
   "cell_type": "code",
   "execution_count": null,
   "metadata": {},
   "outputs": [],
   "source": []
  }
 ],
 "metadata": {
  "kernelspec": {
   "display_name": "Python 3",
   "language": "python",
   "name": "python3"
  },
  "language_info": {
   "codemirror_mode": {
    "name": "ipython",
    "version": 3
   },
   "file_extension": ".py",
   "mimetype": "text/x-python",
   "name": "python",
   "nbconvert_exporter": "python",
   "pygments_lexer": "ipython3",
   "version": "3.7.2"
  },
  "toc": {
   "base_numbering": 1.0,
   "nav_menu": {},
   "number_sections": true,
   "sideBar": true,
   "skip_h1_title": false,
   "title_cell": "Table of Contents",
   "title_sidebar": "Contents",
   "toc_cell": false,
   "toc_position": {
    "height": "calc(100% - 180px)",
    "left": "10px",
    "top": "150px",
    "width": "268.638px"
   },
   "toc_section_display": true,
   "toc_window_display": true
  }
 },
 "nbformat": 4,
 "nbformat_minor": 5
}
