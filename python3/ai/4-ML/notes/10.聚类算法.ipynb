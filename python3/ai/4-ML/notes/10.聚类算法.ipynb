{
 "cells": [
  {
   "cell_type": "markdown",
   "metadata": {},
   "source": [
    "# 非监督学习k-means\n",
    "- (1) 随机取k个点，计算每个点与这k个点之间的距离，按“最近划分为一类”的原则，分为k组\n",
    "- (2) 每一组求mean，重新选取中心点，重复(1)，直到中心点不变 or 到达指定迭代次数为止"
   ]
  },
  {
   "cell_type": "code",
   "execution_count": null,
   "metadata": {},
   "outputs": [],
   "source": [
    "import matplotlib.pyplot as plt\n",
    "from sklearn.datasets import make_blobs\n",
    "from sklearn.cluster import KMeans\n",
    "from sklearn.metrics import calinski_harabasz_score"
   ]
  },
  {
   "cell_type": "code",
   "execution_count": null,
   "metadata": {},
   "outputs": [],
   "source": [
    "# 1.创建数据集\n",
    "# X为样本特征，y为样本簇类别，共1000个样本，每个样本2个特征，共4个簇\n",
    "# 簇中心在[-1, -1], [0, 0], [1, 1], [2, 2], 簇方差分别为[0.4, 0.2, 0.2, 0.2]\n",
    "X, y = make_blobs(n_samples=1000, n_features=2, centers=[(-1, -1), (0, 0), (1, 1), (2, 2)],\n",
    "                 cluster_std=[0.4, 0.2, 0.2, 0.2],\n",
    "                 random_state=9)\n",
    "\n",
    "# 2.使用k-means进行聚类\n",
    "y_pred = KMeans(n_clusters=4, random_state=9).fit_predict(X)\n",
    "\n",
    "\n",
    "# 3.数据可视化\n",
    "plt.scatter(X[:, 0], X[:, 1], c=y_pred)\n",
    "plt.show()\n",
    "\n",
    "# 4.使用CH方法评估\n",
    "print(calinski_harabasz_score(X, y_pred))"
   ]
  },
  {
   "cell_type": "code",
   "execution_count": null,
   "metadata": {},
   "outputs": [],
   "source": []
  }
 ],
 "metadata": {
  "kernelspec": {
   "display_name": "Python 3",
   "language": "python",
   "name": "python3"
  },
  "language_info": {
   "codemirror_mode": {
    "name": "ipython",
    "version": 3
   },
   "file_extension": ".py",
   "mimetype": "text/x-python",
   "name": "python",
   "nbconvert_exporter": "python",
   "pygments_lexer": "ipython3",
   "version": "3.7.2"
  },
  "toc": {
   "base_numbering": 1.0,
   "nav_menu": {},
   "number_sections": true,
   "sideBar": true,
   "skip_h1_title": false,
   "title_cell": "Table of Contents",
   "title_sidebar": "Contents",
   "toc_cell": false,
   "toc_position": {},
   "toc_section_display": true,
   "toc_window_display": false
  }
 },
 "nbformat": 4,
 "nbformat_minor": 5
}
