{
 "cells": [
  {
   "cell_type": "markdown",
   "metadata": {},
   "source": [
    "# 正规方程法\n",
    "## 原理"
   ]
  },
  {
   "cell_type": "code",
   "execution_count": null,
   "metadata": {},
   "outputs": [],
   "source": [
    "import os, sys\n",
    "sys.path.append(os.path.abspath('..'))"
   ]
  },
  {
   "cell_type": "code",
   "execution_count": null,
   "metadata": {},
   "outputs": [],
   "source": [
    "import numpy as np\n",
    "import matplotlib.pyplot as plt\n",
    "from sklearn.datasets import load_boston\n",
    "from playML.visualization import show_predict"
   ]
  },
  {
   "cell_type": "code",
   "execution_count": null,
   "metadata": {},
   "outputs": [],
   "source": [
    "def normal():\n",
    "    boston = load_boston()\n",
    "    X_train = boston.data[10:, :]\n",
    "    y_train = boston.target[10:]\n",
    "\n",
    "    X_test = boston.data[:10, :]\n",
    "    y_test = boston.target[:10]\n",
    "\n",
    "    # 正规方程求解\n",
    "    X_b = np.hstack([np.ones((len(X_train), 1)), X_train])\n",
    "    theta = np.linalg.inv(X_b.T.dot(X_b)).dot(X_b.T).dot(y_train)\n",
    "\n",
    "    # 计算结果\n",
    "    interception = theta[0]  # 截距\n",
    "    coef = theta[1:]  # 系数\n",
    "\n",
    "    # 预测\n",
    "    X_b_test = np.hstack([np.ones((len(X_test), 1)), X_test])\n",
    "    y_predict = X_b_test.dot(theta)\n",
    "    print(np.hstack([y_test.reshape(-1, 1), y_predict.reshape(-1, 1)]))\n",
    "\n",
    "    show_predict(y_test, y_predict)"
   ]
  },
  {
   "cell_type": "code",
   "execution_count": null,
   "metadata": {},
   "outputs": [],
   "source": [
    "normal()"
   ]
  },
  {
   "cell_type": "markdown",
   "metadata": {},
   "source": [
    "## 测试自己封装的库"
   ]
  },
  {
   "cell_type": "code",
   "execution_count": null,
   "metadata": {
    "scrolled": true
   },
   "outputs": [],
   "source": [
    "%%time\n",
    "%run ../testML/3.多元线性回归.py normal"
   ]
  },
  {
   "cell_type": "markdown",
   "metadata": {},
   "source": [
    "## 使用scikit-learn"
   ]
  },
  {
   "cell_type": "code",
   "execution_count": null,
   "metadata": {},
   "outputs": [],
   "source": [
    "from sklearn.datasets import load_iris\n",
    "from sklearn.model_selection import train_test_split\n",
    "from sklearn.linear_model import LinearRegression"
   ]
  },
  {
   "cell_type": "code",
   "execution_count": null,
   "metadata": {},
   "outputs": [],
   "source": [
    "def liner_model():\n",
    "    \"\"\"正规方程\"\"\"\n",
    "\n",
    "    # 1.获取数据集\n",
    "    iris = load_iris()\n",
    "\n",
    "\n",
    "    # 2.数据基本处理\n",
    "    # 2.1 异常值、缺失值处理\n",
    "\n",
    "    # 2.2 数据集分割：测试集、训练集\n",
    "    x_train, x_test, y_train, y_test = train_test_split(\n",
    "        iris.data, iris.target, random_state=22, test_size=0.2)\n",
    "\n",
    "\n",
    "    # 3.特征工程  <----- 无需进行数据归一化\n",
    "\n",
    "\n",
    "    # 4.机器学习\n",
    "    # 4.1 实例化一个估计器\n",
    "    estimater = LinearRegression()\n",
    "\n",
    "    # 4.2 模型训练\n",
    "    estimater.fit(x_train, y_train)\n",
    "\n",
    "\n",
    "    # 5.模型评估\n",
    "    y_predict = estimater.predict(x_test)\n",
    "    ret = estimater.score(x_test, y_test)\n",
    "    \n",
    "    show_predict(y_test, y_predict)\n",
    "    \n",
    "    print(\"模型的回归系数是:\\n\", estimater.coef_)\n",
    "    print(\"模型的截距是:\\n\", estimater.intercept_)\n",
    "    print(\"R^2误差是:\\n\", ret)  "
   ]
  },
  {
   "cell_type": "code",
   "execution_count": null,
   "metadata": {
    "scrolled": true
   },
   "outputs": [],
   "source": [
    "liner_model()"
   ]
  },
  {
   "cell_type": "markdown",
   "metadata": {},
   "source": [
    "# 梯度下降法\n",
    "## 原理\n",
    "### 梯度下降法模拟"
   ]
  },
  {
   "cell_type": "code",
   "execution_count": null,
   "metadata": {},
   "outputs": [],
   "source": [
    "%run ../testML/梯度下降法模拟.py"
   ]
  },
  {
   "cell_type": "markdown",
   "metadata": {},
   "source": [
    "### 全梯度下降法\n",
    "- 每次都是沿着梯度下降的方向进行搜索\n",
    "- 但计算量大"
   ]
  },
  {
   "cell_type": "code",
   "execution_count": null,
   "metadata": {},
   "outputs": [],
   "source": [
    "import numpy as np\n",
    "import matplotlib.pyplot as plt"
   ]
  },
  {
   "cell_type": "code",
   "execution_count": null,
   "metadata": {},
   "outputs": [],
   "source": [
    "def batch_gd(_x, _y):\n",
    "    \"\"\"全梯度下降法\"\"\"\n",
    "\n",
    "    def J(theta, X_b, y):\n",
    "        \"\"\"计算theta处的损失值\"\"\"\n",
    "        return np.sum((y - X_b.dot(theta)) ** 2) / len(X_b)\n",
    "\n",
    "    def dJ(theta, X_b, y):\n",
    "        \"\"\"计算theta处的梯度值\"\"\"\n",
    "        res = np.empty(len(theta))\n",
    "        res[0] = np.sum(X_b.dot(theta) - y)\n",
    "        for i in range(1, len(theta)):\n",
    "            res[i] = (X_b.dot(theta) - y).dot(X_b[:, i])\n",
    "        return res * 2 / len(X_b)\n",
    "\n",
    "    def gradient_descent(X_b, y, initial_theta, eta, n_iters=1e4, epsilon=1e-8):\n",
    "        \"\"\"\n",
    "        梯度下降法\n",
    "        :param X_b: [1:特征矩阵]\n",
    "        :param y: 值向量\n",
    "        :param initial_theta: 迭代初始值\n",
    "        :param eta: 学习率\n",
    "        :param n_iters: 迭代次数\n",
    "        :param epsilon: 精度\n",
    "        :return: 最终迭代值\n",
    "        \"\"\"\n",
    "        theta = initial_theta\n",
    "        i_iter = 0\n",
    "\n",
    "        while i_iter < n_iters:\n",
    "            gradient = dJ(theta, X_b, y)\n",
    "            last_theta = theta\n",
    "            theta = theta - eta * gradient\n",
    "\n",
    "            if abs(J(theta, X_b, y) - J(last_theta, X_b, y)) < epsilon:\n",
    "                break\n",
    "\n",
    "            i_iter += 1\n",
    "\n",
    "        return theta\n",
    "\n",
    "    def show(x, y, theta):\n",
    "        # 绘制\n",
    "        plt.scatter(x, y)\n",
    "        plt.scatter(x, x * theta[1] + theta[0], color='g')\n",
    "        plt.show()\n",
    "\n",
    "    # 模拟只有一个feature\n",
    "    X_train = _x.reshape(-1, 1)\n",
    "    y_train = _y\n",
    "\n",
    "    # 扩展特征矩阵: X_b = [1: X]\n",
    "    X_b = np.hstack([np.ones((len(X_train), 1)), X_train])\n",
    "    initial_theta = np.zeros(X_b.shape[1])  # 初始值\n",
    "    eta = 0.01  # 学习率\n",
    "    theta = gradient_descent(X_b, y_train, initial_theta, eta)\n",
    "    print(\"截距:\", theta[0])\n",
    "    print(\"回归系数:\", theta[1:])\n",
    "\n",
    "    show(_x, _y, theta)"
   ]
  },
  {
   "cell_type": "code",
   "execution_count": null,
   "metadata": {},
   "outputs": [],
   "source": [
    "np.random.seed(666)  # 随机数种子\n",
    "x = 2 * np.random.random(size=100)\n",
    "y = x * 3. + 4. + np.random.normal(size=100)\n",
    "batch_gd(x, y)"
   ]
  },
  {
   "cell_type": "markdown",
   "metadata": {},
   "source": [
    "### 随机梯度下降法\n",
    "- 使用较少的数据，就可收敛\n",
    "- 但不保证每次的搜索方向都是沿着收敛方向\n",
    "- 精度会有一定损失"
   ]
  },
  {
   "cell_type": "code",
   "execution_count": null,
   "metadata": {},
   "outputs": [],
   "source": [
    "def sgd(_x, _y):\n",
    "    \"\"\"随机梯度下降法\"\"\"\n",
    "\n",
    "    def dJ_sgd(theta, X_b_i, y_i):\n",
    "        \"\"\"根据单个样本，计算搜索方向\"\"\"\n",
    "        assert np.array(X_b_i).ndim == 1, \"随机梯度法: 计算搜索方向时，要求输入单个样本\"\n",
    "        return X_b_i.T.dot(X_b_i.dot(theta) - y_i) * 2.\n",
    "\n",
    "    def gradient_descent(X_b, y, initial_theta, n_iters):\n",
    "        \"\"\"\n",
    "        梯度下降法\n",
    "        :param X_b: [1:特征矩阵]\n",
    "        :param y: 值向量\n",
    "        :param initial_theta: 迭代初始值\n",
    "        :param n_iters: 迭代次数\n",
    "        :param epsilon: 精度\n",
    "        :return: 最终迭代值\n",
    "        \"\"\"\n",
    "\n",
    "        t0 = 5\n",
    "        t1 = 50\n",
    "\n",
    "        def learning_rate(t):\n",
    "            \"\"\"动态学习率\"\"\"\n",
    "            return t0 / (t + t1)\n",
    "\n",
    "        theta = initial_theta\n",
    "        for cur_iter in range(n_iters):\n",
    "            rand_i = np.random.randint(len(X_b))                    # 随机获取一个样本\n",
    "            gradient_sgd = dJ_sgd(theta, X_b[rand_i], y[rand_i])    # 计算搜索方向\n",
    "            theta = theta - learning_rate(cur_iter) * gradient_sgd  # 计算下个迭代值\n",
    "\n",
    "        return theta\n",
    "\n",
    "    def show(x, y, theta):\n",
    "        # 绘制\n",
    "        plt.scatter(x, y)\n",
    "        plt.scatter(x, x * theta[1] + theta[0], color='g')\n",
    "        plt.show()\n",
    "\n",
    "    # 模拟只有一个feature\n",
    "    X_train = _x.reshape(-1, 1)\n",
    "    y_train = _y\n",
    "\n",
    "    # 扩展特征矩阵: X_b = [1: X]\n",
    "    X_b = np.hstack([np.ones((len(X_train), 1)), X_train])\n",
    "    initial_theta = np.zeros(X_b.shape[1])  # 初始值\n",
    "    theta = gradient_descent(X_b, y_train, initial_theta, n_iters=len(X_b))\n",
    "    print(\"截距:\", theta[0])\n",
    "    print(\"回归系数:\", theta[1:])\n",
    "\n",
    "    show(_x, _y, theta)"
   ]
  },
  {
   "cell_type": "code",
   "execution_count": null,
   "metadata": {},
   "outputs": [],
   "source": [
    "np.random.seed(666)  # 随机数种子\n",
    "x = 2 * np.random.random(size=100)\n",
    "y = x * 3. + 4. + np.random.normal(size=100)\n",
    "sgd(x, y)"
   ]
  },
  {
   "cell_type": "markdown",
   "metadata": {},
   "source": [
    "## 测试自己封装的库"
   ]
  },
  {
   "cell_type": "code",
   "execution_count": null,
   "metadata": {},
   "outputs": [],
   "source": [
    "%time %run ../testML/3.多元线性回归.py gd\n",
    "%time %run ../testML/3.多元线性回归.py sgd"
   ]
  },
  {
   "cell_type": "markdown",
   "metadata": {},
   "source": [
    "## 使用scikit-learn"
   ]
  },
  {
   "cell_type": "code",
   "execution_count": null,
   "metadata": {},
   "outputs": [],
   "source": [
    "from sklearn.datasets import load_boston               # 1.获取数据集\n",
    "from sklearn.model_selection import train_test_split   # 2.数据分割\n",
    "from sklearn.preprocessing import StandardScaler       # 3.数据标准化\n",
    "from sklearn.linear_model import SGDRegressor          # 4.线性回归\n",
    "from sklearn.metrics import mean_squared_error         # 5.模型评估"
   ]
  },
  {
   "cell_type": "code",
   "execution_count": null,
   "metadata": {},
   "outputs": [],
   "source": [
    "def gradient_descent():\n",
    "    \"\"\"梯度下降法\"\"\"\n",
    "    \n",
    "     # 1.获取数据集\n",
    "    iris = load_iris()\n",
    "\n",
    "\n",
    "    # 2.数据基本处理\n",
    "    # 2.1 异常值、缺失值处理\n",
    "\n",
    "    # 2.2 数据集分割：测试集、训练集\n",
    "    x_train, x_test, y_train, y_test = train_test_split(\n",
    "        iris.data, iris.target, random_state=22, test_size=0.2)\n",
    "\n",
    "\n",
    "    # 3.特征工程  <----- 必须进行数据归一化\n",
    "    transfer = StandardScaler()\n",
    "    transfer.fit(x_train)\n",
    "    transfer.transform(x_train)\n",
    "    transfer.transform(x_test)\n",
    "\n",
    "\n",
    "    # 4.机器学习\n",
    "    # 4.1 实例化一个估计器\n",
    "    estimater = SGDRegressor()\n",
    "\n",
    "    # 4.2 模型训练\n",
    "    estimater.fit(x_train, y_train)\n",
    "\n",
    "\n",
    "    # 5.模型评估\n",
    "    y_predict = estimater.predict(x_test)\n",
    "    ret = estimater.score(x_test, y_test)\n",
    "    \n",
    "    show_predict(y_test, y_predict)\n",
    "        \n",
    "    print(\"模型的回归系数是:\\n\", estimater.coef_)\n",
    "    print(\"模型的截距是:\\n\", estimater.intercept_)\n",
    "    print(\"R^2误差是:\\n\", ret)"
   ]
  },
  {
   "cell_type": "code",
   "execution_count": null,
   "metadata": {},
   "outputs": [],
   "source": [
    "gradient_descent()"
   ]
  },
  {
   "cell_type": "markdown",
   "metadata": {},
   "source": [
    "# 对比\n",
    "- 正规方程适合特征数较少的情况\n",
    "- 如果特征数太多，使用梯度下降法可以更快的收敛"
   ]
  },
  {
   "cell_type": "code",
   "execution_count": null,
   "metadata": {},
   "outputs": [],
   "source": [
    "from playML.LinearRegression import LinearRegression\n",
    "from playML.preprocessing import StandardScaler\n",
    "import numpy as np"
   ]
  },
  {
   "cell_type": "code",
   "execution_count": null,
   "metadata": {},
   "outputs": [],
   "source": [
    "m = 1000\n",
    "n = 500\n",
    "\n",
    "np.random.seed(666)\n",
    "big_X = np.random.random(size=(m, n))\n",
    "true_theta = np.random.uniform(0.0, 100.0, size=n+1)\n",
    "big_y = big_X.dot(true_theta[1:]) + true_theta[0]\n",
    "\n",
    "# X_b = np.hstack([np.ones((len(big_X), 1)), big_X])\n",
    "# big_y2 = X_b.dot(true_theta)\n",
    "\n",
    "# 归一化\n",
    "transfer = StandardScaler()\n",
    "big_X_standard = transfer.fit_transform(big_X)\n",
    "\n",
    "# 正规方程法\n",
    "estimater1 = LinearRegression()\n",
    "%time estimater1.fit_normal(big_X_standard, big_y)\n",
    "\n",
    "# 梯度下降法\n",
    "estimater2 = LinearRegression()\n",
    "%time estimater2.fit_gd(big_X_standard, big_y)\n",
    "\n",
    "np.vstack((true_theta, estimater1._theta, estimater1._theta)).T"
   ]
  },
  {
   "cell_type": "code",
   "execution_count": null,
   "metadata": {},
   "outputs": [],
   "source": []
  }
 ],
 "metadata": {
  "kernelspec": {
   "display_name": "Python 3",
   "language": "python",
   "name": "python3"
  },
  "language_info": {
   "codemirror_mode": {
    "name": "ipython",
    "version": 3
   },
   "file_extension": ".py",
   "mimetype": "text/x-python",
   "name": "python",
   "nbconvert_exporter": "python",
   "pygments_lexer": "ipython3",
   "version": "3.7.2"
  },
  "toc": {
   "base_numbering": 1.0,
   "nav_menu": {},
   "number_sections": true,
   "sideBar": true,
   "skip_h1_title": false,
   "title_cell": "Table of Contents",
   "title_sidebar": "Contents",
   "toc_cell": false,
   "toc_position": {
    "height": "calc(100% - 180px)",
    "left": "10px",
    "top": "150px",
    "width": "295.513px"
   },
   "toc_section_display": true,
   "toc_window_display": true
  }
 },
 "nbformat": 4,
 "nbformat_minor": 5
}
